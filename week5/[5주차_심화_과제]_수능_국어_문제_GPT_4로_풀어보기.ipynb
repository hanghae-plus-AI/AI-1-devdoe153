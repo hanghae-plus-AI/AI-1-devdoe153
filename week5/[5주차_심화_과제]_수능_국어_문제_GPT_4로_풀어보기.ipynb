{
  "nbformat": 4,
  "nbformat_minor": 0,
  "metadata": {
    "colab": {
      "provenance": [],
      "gpuType": "T4"
    },
    "kernelspec": {
      "name": "python3",
      "display_name": "Python 3"
    },
    "language_info": {
      "name": "python"
    },
    "accelerator": "GPU"
  },
  "cells": [
    {
      "cell_type": "code",
      "execution_count": null,
      "metadata": {
        "colab": {
          "base_uri": "https://localhost:8080/"
        },
        "id": "QP8S_SFr88KK",
        "outputId": "55ef77f7-23b0-4a6a-fd13-01e58070157b"
      },
      "outputs": [
        {
          "output_type": "stream",
          "name": "stdout",
          "text": [
            "Collecting openapi\n",
            "  Downloading openapi-2.0.0-py2.py3-none-any.whl.metadata (1.2 kB)\n",
            "Requirement already satisfied: datasets in /usr/local/lib/python3.10/dist-packages (3.0.1)\n",
            "Requirement already satisfied: requests in /usr/local/lib/python3.10/dist-packages (2.32.3)\n",
            "Requirement already satisfied: tqdm in /usr/local/lib/python3.10/dist-packages (4.66.5)\n",
            "Collecting inflection>=0.5.1 (from openapi)\n",
            "  Downloading inflection-0.5.1-py2.py3-none-any.whl.metadata (1.7 kB)\n",
            "Requirement already satisfied: jsonschema>=3.2.0 in /usr/local/lib/python3.10/dist-packages (from openapi) (4.23.0)\n",
            "Requirement already satisfied: filelock in /usr/local/lib/python3.10/dist-packages (from datasets) (3.16.1)\n",
            "Requirement already satisfied: numpy>=1.17 in /usr/local/lib/python3.10/dist-packages (from datasets) (1.26.4)\n",
            "Requirement already satisfied: pyarrow>=15.0.0 in /usr/local/lib/python3.10/dist-packages (from datasets) (16.1.0)\n",
            "Requirement already satisfied: dill<0.3.9,>=0.3.0 in /usr/local/lib/python3.10/dist-packages (from datasets) (0.3.8)\n",
            "Requirement already satisfied: pandas in /usr/local/lib/python3.10/dist-packages (from datasets) (2.2.2)\n",
            "Requirement already satisfied: xxhash in /usr/local/lib/python3.10/dist-packages (from datasets) (3.5.0)\n",
            "Requirement already satisfied: multiprocess in /usr/local/lib/python3.10/dist-packages (from datasets) (0.70.16)\n",
            "Requirement already satisfied: fsspec<=2024.6.1,>=2023.1.0 in /usr/local/lib/python3.10/dist-packages (from fsspec[http]<=2024.6.1,>=2023.1.0->datasets) (2024.6.1)\n",
            "Requirement already satisfied: aiohttp in /usr/local/lib/python3.10/dist-packages (from datasets) (3.10.10)\n",
            "Requirement already satisfied: huggingface-hub>=0.22.0 in /usr/local/lib/python3.10/dist-packages (from datasets) (0.24.7)\n",
            "Requirement already satisfied: packaging in /usr/local/lib/python3.10/dist-packages (from datasets) (24.1)\n",
            "Requirement already satisfied: pyyaml>=5.1 in /usr/local/lib/python3.10/dist-packages (from datasets) (6.0.2)\n",
            "Requirement already satisfied: charset-normalizer<4,>=2 in /usr/local/lib/python3.10/dist-packages (from requests) (3.4.0)\n",
            "Requirement already satisfied: idna<4,>=2.5 in /usr/local/lib/python3.10/dist-packages (from requests) (3.10)\n",
            "Requirement already satisfied: urllib3<3,>=1.21.1 in /usr/local/lib/python3.10/dist-packages (from requests) (2.2.3)\n",
            "Requirement already satisfied: certifi>=2017.4.17 in /usr/local/lib/python3.10/dist-packages (from requests) (2024.8.30)\n",
            "Requirement already satisfied: aiohappyeyeballs>=2.3.0 in /usr/local/lib/python3.10/dist-packages (from aiohttp->datasets) (2.4.3)\n",
            "Requirement already satisfied: aiosignal>=1.1.2 in /usr/local/lib/python3.10/dist-packages (from aiohttp->datasets) (1.3.1)\n",
            "Requirement already satisfied: attrs>=17.3.0 in /usr/local/lib/python3.10/dist-packages (from aiohttp->datasets) (24.2.0)\n",
            "Requirement already satisfied: frozenlist>=1.1.1 in /usr/local/lib/python3.10/dist-packages (from aiohttp->datasets) (1.4.1)\n",
            "Requirement already satisfied: multidict<7.0,>=4.5 in /usr/local/lib/python3.10/dist-packages (from aiohttp->datasets) (6.1.0)\n",
            "Requirement already satisfied: yarl<2.0,>=1.12.0 in /usr/local/lib/python3.10/dist-packages (from aiohttp->datasets) (1.14.0)\n",
            "Requirement already satisfied: async-timeout<5.0,>=4.0 in /usr/local/lib/python3.10/dist-packages (from aiohttp->datasets) (4.0.3)\n",
            "Requirement already satisfied: typing-extensions>=3.7.4.3 in /usr/local/lib/python3.10/dist-packages (from huggingface-hub>=0.22.0->datasets) (4.12.2)\n",
            "Requirement already satisfied: jsonschema-specifications>=2023.03.6 in /usr/local/lib/python3.10/dist-packages (from jsonschema>=3.2.0->openapi) (2024.10.1)\n",
            "Requirement already satisfied: referencing>=0.28.4 in /usr/local/lib/python3.10/dist-packages (from jsonschema>=3.2.0->openapi) (0.35.1)\n",
            "Requirement already satisfied: rpds-py>=0.7.1 in /usr/local/lib/python3.10/dist-packages (from jsonschema>=3.2.0->openapi) (0.20.0)\n",
            "Requirement already satisfied: python-dateutil>=2.8.2 in /usr/local/lib/python3.10/dist-packages (from pandas->datasets) (2.8.2)\n",
            "Requirement already satisfied: pytz>=2020.1 in /usr/local/lib/python3.10/dist-packages (from pandas->datasets) (2024.2)\n",
            "Requirement already satisfied: tzdata>=2022.7 in /usr/local/lib/python3.10/dist-packages (from pandas->datasets) (2024.2)\n",
            "Requirement already satisfied: six>=1.5 in /usr/local/lib/python3.10/dist-packages (from python-dateutil>=2.8.2->pandas->datasets) (1.16.0)\n",
            "Requirement already satisfied: propcache>=0.2.0 in /usr/local/lib/python3.10/dist-packages (from yarl<2.0,>=1.12.0->aiohttp->datasets) (0.2.0)\n",
            "Downloading openapi-2.0.0-py2.py3-none-any.whl (12 kB)\n",
            "Downloading inflection-0.5.1-py2.py3-none-any.whl (9.5 kB)\n",
            "Installing collected packages: inflection, openapi\n",
            "Successfully installed inflection-0.5.1 openapi-2.0.0\n"
          ]
        }
      ],
      "source": [
        "!pip install datasets requests tqdm"
      ]
    },
    {
      "cell_type": "code",
      "source": [
        "!pip install openai==0.28"
      ],
      "metadata": {
        "colab": {
          "base_uri": "https://localhost:8080/"
        },
        "id": "tBd8cJUhzkYJ",
        "outputId": "da512a1f-2392-46e2-df27-1c8a72067365"
      },
      "execution_count": null,
      "outputs": [
        {
          "output_type": "stream",
          "name": "stdout",
          "text": [
            "Collecting openai==0.28\n",
            "  Downloading openai-0.28.0-py3-none-any.whl.metadata (13 kB)\n",
            "Requirement already satisfied: requests>=2.20 in /usr/local/lib/python3.10/dist-packages (from openai==0.28) (2.32.3)\n",
            "Requirement already satisfied: tqdm in /usr/local/lib/python3.10/dist-packages (from openai==0.28) (4.66.5)\n",
            "Requirement already satisfied: aiohttp in /usr/local/lib/python3.10/dist-packages (from openai==0.28) (3.10.10)\n",
            "Requirement already satisfied: charset-normalizer<4,>=2 in /usr/local/lib/python3.10/dist-packages (from requests>=2.20->openai==0.28) (3.4.0)\n",
            "Requirement already satisfied: idna<4,>=2.5 in /usr/local/lib/python3.10/dist-packages (from requests>=2.20->openai==0.28) (3.10)\n",
            "Requirement already satisfied: urllib3<3,>=1.21.1 in /usr/local/lib/python3.10/dist-packages (from requests>=2.20->openai==0.28) (2.2.3)\n",
            "Requirement already satisfied: certifi>=2017.4.17 in /usr/local/lib/python3.10/dist-packages (from requests>=2.20->openai==0.28) (2024.8.30)\n",
            "Requirement already satisfied: aiohappyeyeballs>=2.3.0 in /usr/local/lib/python3.10/dist-packages (from aiohttp->openai==0.28) (2.4.3)\n",
            "Requirement already satisfied: aiosignal>=1.1.2 in /usr/local/lib/python3.10/dist-packages (from aiohttp->openai==0.28) (1.3.1)\n",
            "Requirement already satisfied: attrs>=17.3.0 in /usr/local/lib/python3.10/dist-packages (from aiohttp->openai==0.28) (24.2.0)\n",
            "Requirement already satisfied: frozenlist>=1.1.1 in /usr/local/lib/python3.10/dist-packages (from aiohttp->openai==0.28) (1.4.1)\n",
            "Requirement already satisfied: multidict<7.0,>=4.5 in /usr/local/lib/python3.10/dist-packages (from aiohttp->openai==0.28) (6.1.0)\n",
            "Requirement already satisfied: yarl<2.0,>=1.12.0 in /usr/local/lib/python3.10/dist-packages (from aiohttp->openai==0.28) (1.14.0)\n",
            "Requirement already satisfied: async-timeout<5.0,>=4.0 in /usr/local/lib/python3.10/dist-packages (from aiohttp->openai==0.28) (4.0.3)\n",
            "Requirement already satisfied: typing-extensions>=4.1.0 in /usr/local/lib/python3.10/dist-packages (from multidict<7.0,>=4.5->aiohttp->openai==0.28) (4.12.2)\n",
            "Requirement already satisfied: propcache>=0.2.0 in /usr/local/lib/python3.10/dist-packages (from yarl<2.0,>=1.12.0->aiohttp->openai==0.28) (0.2.0)\n",
            "Downloading openai-0.28.0-py3-none-any.whl (76 kB)\n",
            "\u001b[?25l   \u001b[90m━━━━━━━━━━━━━━━━━━━━━━━━━━━━━━━━━━━━━━━━\u001b[0m \u001b[32m0.0/76.5 kB\u001b[0m \u001b[31m?\u001b[0m eta \u001b[36m-:--:--\u001b[0m\r\u001b[2K   \u001b[90m━━━━━━━━━━━━━━━━━━━━━━━━━━━━━━━━━━━━━━━━\u001b[0m \u001b[32m76.5/76.5 kB\u001b[0m \u001b[31m7.8 MB/s\u001b[0m eta \u001b[36m0:00:00\u001b[0m\n",
            "\u001b[?25hInstalling collected packages: openai\n",
            "Successfully installed openai-0.28.0\n"
          ]
        }
      ]
    },
    {
      "cell_type": "code",
      "source": [
        "import openai\n",
        "from google.colab import userdata\n",
        "\n",
        "openai.api_key = userdata.get('OPENAI_API_KEY')\n",
        "\n",
        "\n"
      ],
      "metadata": {
        "id": "xDOKUAf290gN",
        "colab": {
          "base_uri": "https://localhost:8080/",
          "height": 36
        },
        "outputId": "a96328f4-87ef-45dd-f056-76c01988911b"
      },
      "execution_count": null,
      "outputs": [
        {
          "output_type": "execute_result",
          "data": {
            "text/plain": [
              "'jegr91XEEeUGkpiVxGIHWDqye__VMqUXmrp8smGGJXm0qg6iBFHqcexCgjxiJKKW0FnpBNDhwTT3BlbkFJALLz1Y'"
            ],
            "application/vnd.google.colaboratory.intrinsic+json": {
              "type": "string"
            }
          },
          "metadata": {},
          "execution_count": 12
        }
      ]
    },
    {
      "cell_type": "code",
      "source": [
        "import requests\n",
        "\n",
        "# 수능 데이터 확인\n",
        "\n",
        "json_url = 'https://raw.githubusercontent.com/NomaDamas/KICE_slayer_AI_Korean/refs/heads/master/data/2023_11_KICE.json'\n",
        "\n",
        "# JSON 데이터 불러오기\n",
        "response = requests.get(json_url)\n",
        "data = response.json()\n",
        "\n",
        "# 데이터 확인\n",
        "print(f\"총 문제 수: {len(data)}\")\n"
      ],
      "metadata": {
        "colab": {
          "base_uri": "https://localhost:8080/"
        },
        "id": "RC9niFKMtTNC",
        "outputId": "ebeabd68-3738-4978-96cc-ebe0b692775d"
      },
      "execution_count": null,
      "outputs": [
        {
          "output_type": "stream",
          "name": "stdout",
          "text": [
            "총 문제 수: 11\n"
          ]
        }
      ]
    },
    {
      "cell_type": "code",
      "source": [
        "temperature = 0  # 각 token을 샘플링할 때 사용하는 temperature 값입니다.\n",
        "max_tokens = 4096  # 생성하는 최대 token 개수 입니다.\n",
        "n = 1  # 같은 질의에 대해 몇 개의 답변을 출력할지 결정합니다.\n",
        "frequency_penalty = 0.0  # 같은 단어가 반복적으로 나오는 것을 방지하기 위한 옵션입니다.\n",
        "\n",
        "def prediction(problem):\n",
        "    # 문제 텍스트 추출 (문제 유형에 따라 수정 필요)\n",
        "    question = problem.get('question', '')\n",
        "    options = problem.get('options', {})\n",
        "\n",
        "    # GPT-4에 보낼 프롬프트 생성\n",
        "    prompt = f\"다음은 2023년도 수능 국어 문제입니다.\\n\\n{question}\\n\\n보기:\\n\"\n",
        "    for key, value in options.items():\n",
        "        prompt += f\"{key}. {value}\\n\"\n",
        "    prompt += \"\\n정답을 선택지의 문자(A, B, C, D, ...) 중 하나로만 대답해주세요.\"\n",
        "\n",
        "    try:\n",
        "        # GPT-4 API 호출\n",
        "        response = openai.ChatCompletion.create(\n",
        "            model=\"gpt-4\",\n",
        "            messages=[\n",
        "                {\"role\": \"system\", \"content\": \"당신은 수능 국어 문제의 정답을 선택하는 데 도움을 주는 AI입니다.\"},\n",
        "                {\"role\": \"user\", \"content\": prompt}\n",
        "            ],\n",
        "            n=1,\n",
        "            max_tokens=10,\n",
        "            temperature=0,\n",
        "            frequency_penalty=frequency_penalty\n",
        "        )\n",
        "        # 응답에서 정답 추출\n",
        "        answer = response.choices[0].message['content'].strip().upper()\n",
        "        return answer\n",
        "    except Exception as e:\n",
        "        print(f\"Error: {e}\")\n",
        "        return \"Error\"\n"
      ],
      "metadata": {
        "id": "t1vdLGJhB52l"
      },
      "execution_count": null,
      "outputs": []
    },
    {
      "cell_type": "code",
      "source": [
        "def calculate_score(predictions, answers):\n",
        "    correct = sum(1 for pred, ans in zip(predictions, answers) if pred == ans)\n",
        "    return correct * 2  # 각 문제당 2점"
      ],
      "metadata": {
        "id": "nKnxxSIqrdRd"
      },
      "execution_count": null,
      "outputs": []
    },
    {
      "cell_type": "code",
      "source": [
        "from tqdm import tqdm\n",
        "\n",
        "predictions = []\n",
        "for problem in tqdm(data, desc=\"문제 예측 중\"):\n",
        "    pred = prediction(problem)\n",
        "    if pred is not None:\n",
        "        predictions.append(pred)\n",
        "    else:\n",
        "        predictions.append(0)  # 오류 발생 시 0으로 처리"
      ],
      "metadata": {
        "colab": {
          "base_uri": "https://localhost:8080/"
        },
        "id": "uc04OC-0rdMh",
        "outputId": "04ede1ff-5fe8-4dbd-9086-067e9023616e"
      },
      "execution_count": null,
      "outputs": [
        {
          "output_type": "stream",
          "name": "stderr",
          "text": [
            "문제 예측 중:   9%|▉         | 1/11 [00:00<00:02,  4.15it/s]"
          ]
        },
        {
          "output_type": "stream",
          "name": "stdout",
          "text": [
            "Error: Incorrect API key provided: jegr91XE****************************************************************************Lz1Y. You can find your API key at https://platform.openai.com/account/api-keys.\n"
          ]
        },
        {
          "output_type": "stream",
          "name": "stderr",
          "text": [
            "\r문제 예측 중:  18%|█▊        | 2/11 [00:00<00:02,  4.31it/s]"
          ]
        },
        {
          "output_type": "stream",
          "name": "stdout",
          "text": [
            "Error: Incorrect API key provided: jegr91XE****************************************************************************Lz1Y. You can find your API key at https://platform.openai.com/account/api-keys.\n"
          ]
        },
        {
          "output_type": "stream",
          "name": "stderr",
          "text": [
            "\r문제 예측 중:  27%|██▋       | 3/11 [00:00<00:01,  4.38it/s]"
          ]
        },
        {
          "output_type": "stream",
          "name": "stdout",
          "text": [
            "Error: Incorrect API key provided: jegr91XE****************************************************************************Lz1Y. You can find your API key at https://platform.openai.com/account/api-keys.\n"
          ]
        },
        {
          "output_type": "stream",
          "name": "stderr",
          "text": [
            "\r문제 예측 중:  36%|███▋      | 4/11 [00:00<00:01,  4.41it/s]"
          ]
        },
        {
          "output_type": "stream",
          "name": "stdout",
          "text": [
            "Error: Incorrect API key provided: jegr91XE****************************************************************************Lz1Y. You can find your API key at https://platform.openai.com/account/api-keys.\n"
          ]
        },
        {
          "output_type": "stream",
          "name": "stderr",
          "text": [
            "\r문제 예측 중:  45%|████▌     | 5/11 [00:01<00:01,  4.45it/s]"
          ]
        },
        {
          "output_type": "stream",
          "name": "stdout",
          "text": [
            "Error: Incorrect API key provided: jegr91XE****************************************************************************Lz1Y. You can find your API key at https://platform.openai.com/account/api-keys.\n"
          ]
        },
        {
          "output_type": "stream",
          "name": "stderr",
          "text": [
            "\r문제 예측 중:  55%|█████▍    | 6/11 [00:01<00:01,  4.45it/s]"
          ]
        },
        {
          "output_type": "stream",
          "name": "stdout",
          "text": [
            "Error: Incorrect API key provided: jegr91XE****************************************************************************Lz1Y. You can find your API key at https://platform.openai.com/account/api-keys.\n"
          ]
        },
        {
          "output_type": "stream",
          "name": "stderr",
          "text": [
            "\r문제 예측 중:  64%|██████▎   | 7/11 [00:01<00:00,  4.45it/s]"
          ]
        },
        {
          "output_type": "stream",
          "name": "stdout",
          "text": [
            "Error: Incorrect API key provided: jegr91XE****************************************************************************Lz1Y. You can find your API key at https://platform.openai.com/account/api-keys.\n"
          ]
        },
        {
          "output_type": "stream",
          "name": "stderr",
          "text": [
            "\r문제 예측 중:  73%|███████▎  | 8/11 [00:01<00:00,  4.43it/s]"
          ]
        },
        {
          "output_type": "stream",
          "name": "stdout",
          "text": [
            "Error: Incorrect API key provided: jegr91XE****************************************************************************Lz1Y. You can find your API key at https://platform.openai.com/account/api-keys.\n"
          ]
        },
        {
          "output_type": "stream",
          "name": "stderr",
          "text": [
            "\r문제 예측 중:  82%|████████▏ | 9/11 [00:02<00:00,  4.41it/s]"
          ]
        },
        {
          "output_type": "stream",
          "name": "stdout",
          "text": [
            "Error: Incorrect API key provided: jegr91XE****************************************************************************Lz1Y. You can find your API key at https://platform.openai.com/account/api-keys.\n"
          ]
        },
        {
          "output_type": "stream",
          "name": "stderr",
          "text": [
            "\r문제 예측 중:  91%|█████████ | 10/11 [00:02<00:00,  4.43it/s]"
          ]
        },
        {
          "output_type": "stream",
          "name": "stdout",
          "text": [
            "Error: Incorrect API key provided: jegr91XE****************************************************************************Lz1Y. You can find your API key at https://platform.openai.com/account/api-keys.\n"
          ]
        },
        {
          "output_type": "stream",
          "name": "stderr",
          "text": [
            "문제 예측 중: 100%|██████████| 11/11 [00:02<00:00,  4.42it/s]"
          ]
        },
        {
          "output_type": "stream",
          "name": "stdout",
          "text": [
            "Error: Incorrect API key provided: jegr91XE****************************************************************************Lz1Y. You can find your API key at https://platform.openai.com/account/api-keys.\n"
          ]
        },
        {
          "output_type": "stream",
          "name": "stderr",
          "text": [
            "\n"
          ]
        }
      ]
    },
    {
      "cell_type": "code",
      "source": [
        "# 실제 정답 추출\n",
        "answers = [problem.get('answer', 0) for problem in data]\n",
        "\n",
        "# 점수 계산\n",
        "score = calculate_score(predictions, answers)\n",
        "\n",
        "print(f\"\\nGPT-4의 2023년 수능 국어 점수: {score}점\\n\")"
      ],
      "metadata": {
        "colab": {
          "base_uri": "https://localhost:8080/"
        },
        "id": "JDXhQGgSrdJp",
        "outputId": "117e0390-2e56-4b4f-e4ed-9328deaa1b39"
      },
      "execution_count": null,
      "outputs": [
        {
          "output_type": "stream",
          "name": "stdout",
          "text": [
            "\n",
            "GPT-4의 2023년 수능 국어 점수: 0점\n",
            "\n"
          ]
        }
      ]
    },
    {
      "cell_type": "code",
      "source": [
        "# 문제별 정답과 예측 결과 출력\n",
        "for i, (pred, ans) in enumerate(zip(predictions, answers), 1):\n",
        "    result = '정답' if pred == ans else '오답'\n",
        "    print(f\"문제 {i}: 정답 = {ans}, 예측 = {pred}, 결과 = {result}\")\n"
      ],
      "metadata": {
        "colab": {
          "base_uri": "https://localhost:8080/"
        },
        "id": "24yU9zP9rdEj",
        "outputId": "714d96a6-8bae-4a8c-edc6-7d195daad2a6"
      },
      "execution_count": null,
      "outputs": [
        {
          "output_type": "stream",
          "name": "stdout",
          "text": [
            "문제 1: 정답 = 0, 예측 = Error, 결과 = 오답\n",
            "문제 2: 정답 = 0, 예측 = Error, 결과 = 오답\n",
            "문제 3: 정답 = 0, 예측 = Error, 결과 = 오답\n",
            "문제 4: 정답 = 0, 예측 = Error, 결과 = 오답\n",
            "문제 5: 정답 = 0, 예측 = Error, 결과 = 오답\n",
            "문제 6: 정답 = 0, 예측 = Error, 결과 = 오답\n",
            "문제 7: 정답 = 0, 예측 = Error, 결과 = 오답\n",
            "문제 8: 정답 = 0, 예측 = Error, 결과 = 오답\n",
            "문제 9: 정답 = 0, 예측 = Error, 결과 = 오답\n",
            "문제 10: 정답 = 0, 예측 = Error, 결과 = 오답\n",
            "문제 11: 정답 = 0, 예측 = Error, 결과 = 오답\n"
          ]
        }
      ]
    },
    {
      "cell_type": "code",
      "source": [
        "# 예측 결과 저장할 리스트\n",
        "predictions = []\n",
        "actual_answers = []\n",
        "\n",
        "# 문제별로 예측 수행\n",
        "for problem in tqdm(data, desc=\"예측 중\"):\n",
        "    pred = prediction(problem)\n",
        "    predictions.append(pred)\n",
        "    actual = problem.get('answer', '').strip().upper()\n",
        "    actual_answers.append(actual)\n",
        "\n",
        "# 결과 확인 (예시로 첫 5문제)\n",
        "for i in range(5):\n",
        "    print(f\"문제 {i+1}: 예측={predictions[i]}, 실제={actual_answers[i]}\")\n"
      ],
      "metadata": {
        "colab": {
          "base_uri": "https://localhost:8080/"
        },
        "id": "5mmrmYvGu8IX",
        "outputId": "71efcdaf-e8a8-469b-a4dc-62dc1596ce0e"
      },
      "execution_count": null,
      "outputs": [
        {
          "output_type": "stream",
          "name": "stderr",
          "text": [
            "예측 중:   9%|▉         | 1/11 [00:00<00:02,  3.98it/s]"
          ]
        },
        {
          "output_type": "stream",
          "name": "stdout",
          "text": [
            "Error: Incorrect API key provided: RcccVryn************************************************************************************************************************************************3w4A. You can find your API key at https://platform.openai.com/account/api-keys.\n"
          ]
        },
        {
          "output_type": "stream",
          "name": "stderr",
          "text": [
            "\r예측 중:  18%|█▊        | 2/11 [00:00<00:02,  3.99it/s]"
          ]
        },
        {
          "output_type": "stream",
          "name": "stdout",
          "text": [
            "Error: Incorrect API key provided: RcccVryn************************************************************************************************************************************************3w4A. You can find your API key at https://platform.openai.com/account/api-keys.\n"
          ]
        },
        {
          "output_type": "stream",
          "name": "stderr",
          "text": [
            "\r예측 중:  27%|██▋       | 3/11 [00:00<00:02,  3.97it/s]"
          ]
        },
        {
          "output_type": "stream",
          "name": "stdout",
          "text": [
            "Error: Incorrect API key provided: RcccVryn************************************************************************************************************************************************3w4A. You can find your API key at https://platform.openai.com/account/api-keys.\n"
          ]
        },
        {
          "output_type": "stream",
          "name": "stderr",
          "text": [
            "\r예측 중:  36%|███▋      | 4/11 [00:01<00:01,  3.98it/s]"
          ]
        },
        {
          "output_type": "stream",
          "name": "stdout",
          "text": [
            "Error: Incorrect API key provided: RcccVryn************************************************************************************************************************************************3w4A. You can find your API key at https://platform.openai.com/account/api-keys.\n"
          ]
        },
        {
          "output_type": "stream",
          "name": "stderr",
          "text": [
            "\r예측 중:  45%|████▌     | 5/11 [00:01<00:01,  3.98it/s]"
          ]
        },
        {
          "output_type": "stream",
          "name": "stdout",
          "text": [
            "Error: Incorrect API key provided: RcccVryn************************************************************************************************************************************************3w4A. You can find your API key at https://platform.openai.com/account/api-keys.\n"
          ]
        },
        {
          "output_type": "stream",
          "name": "stderr",
          "text": [
            "\r예측 중:  55%|█████▍    | 6/11 [00:01<00:01,  3.96it/s]"
          ]
        },
        {
          "output_type": "stream",
          "name": "stdout",
          "text": [
            "Error: Incorrect API key provided: RcccVryn************************************************************************************************************************************************3w4A. You can find your API key at https://platform.openai.com/account/api-keys.\n"
          ]
        },
        {
          "output_type": "stream",
          "name": "stderr",
          "text": [
            "\r예측 중:  64%|██████▎   | 7/11 [00:01<00:01,  3.97it/s]"
          ]
        },
        {
          "output_type": "stream",
          "name": "stdout",
          "text": [
            "Error: Incorrect API key provided: RcccVryn************************************************************************************************************************************************3w4A. You can find your API key at https://platform.openai.com/account/api-keys.\n"
          ]
        },
        {
          "output_type": "stream",
          "name": "stderr",
          "text": [
            "\r예측 중:  73%|███████▎  | 8/11 [00:02<00:00,  3.98it/s]"
          ]
        },
        {
          "output_type": "stream",
          "name": "stdout",
          "text": [
            "Error: Incorrect API key provided: RcccVryn************************************************************************************************************************************************3w4A. You can find your API key at https://platform.openai.com/account/api-keys.\n"
          ]
        },
        {
          "output_type": "stream",
          "name": "stderr",
          "text": [
            "\r예측 중:  82%|████████▏ | 9/11 [00:02<00:00,  3.98it/s]"
          ]
        },
        {
          "output_type": "stream",
          "name": "stdout",
          "text": [
            "Error: Incorrect API key provided: RcccVryn************************************************************************************************************************************************3w4A. You can find your API key at https://platform.openai.com/account/api-keys.\n"
          ]
        },
        {
          "output_type": "stream",
          "name": "stderr",
          "text": [
            "\r예측 중:  91%|█████████ | 10/11 [00:02<00:00,  3.98it/s]"
          ]
        },
        {
          "output_type": "stream",
          "name": "stdout",
          "text": [
            "Error: Incorrect API key provided: RcccVryn************************************************************************************************************************************************3w4A. You can find your API key at https://platform.openai.com/account/api-keys.\n"
          ]
        },
        {
          "output_type": "stream",
          "name": "stderr",
          "text": [
            "예측 중: 100%|██████████| 11/11 [00:02<00:00,  3.97it/s]"
          ]
        },
        {
          "output_type": "stream",
          "name": "stdout",
          "text": [
            "Error: Incorrect API key provided: RcccVryn************************************************************************************************************************************************3w4A. You can find your API key at https://platform.openai.com/account/api-keys.\n",
            "문제 1: 예측=Error, 실제=\n",
            "문제 2: 예측=Error, 실제=\n",
            "문제 3: 예측=Error, 실제=\n",
            "문제 4: 예측=Error, 실제=\n",
            "문제 5: 예측=Error, 실제=\n"
          ]
        },
        {
          "output_type": "stream",
          "name": "stderr",
          "text": [
            "\n"
          ]
        }
      ]
    },
    {
      "cell_type": "code",
      "source": [
        "# 점수 계산\n",
        "score = 0\n",
        "total = len(actual_answers)\n",
        "\n",
        "for pred, actual in zip(predictions, actual_answers):\n",
        "    if pred == actual:\n",
        "        score += 1\n",
        "\n",
        "print(f\"GPT-4의 총 점수: {score} / {total}\")"
      ],
      "metadata": {
        "colab": {
          "base_uri": "https://localhost:8080/"
        },
        "id": "94WMmpuVvH3V",
        "outputId": "39da273d-a5a4-4826-ef36-43d664e76740"
      },
      "execution_count": null,
      "outputs": [
        {
          "output_type": "stream",
          "name": "stdout",
          "text": [
            "GPT-4의 총 점수: 0 / 11\n"
          ]
        }
      ]
    },
    {
      "cell_type": "code",
      "source": [
        "# 채점 결과 50점을 넘기면 통과입니다.\n",
        "\n",
        "if score > 50:\n",
        "    print(\"통과입니다! 축하합니다.\")\n",
        "else:\n",
        "    print(\"아쉽게도 50점에 미달했습니다. 다시 시도해주세요.\")"
      ],
      "metadata": {
        "id": "RGDvTpWevKfu",
        "colab": {
          "base_uri": "https://localhost:8080/"
        },
        "outputId": "48ae2b4b-59c5-4494-e8e2-b66ceadd9bef"
      },
      "execution_count": null,
      "outputs": [
        {
          "output_type": "stream",
          "name": "stdout",
          "text": [
            "아쉽게도 50점에 미달했습니다. 다시 시도해주세요.\n"
          ]
        }
      ]
    }
  ]
}