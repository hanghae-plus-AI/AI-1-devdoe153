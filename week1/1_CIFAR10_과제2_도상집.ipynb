{
  "cells": [
    {
      "cell_type": "markdown",
      "metadata": {
        "id": "view-in-github",
        "colab_type": "text"
      },
      "source": [
        "<a href=\"https://colab.research.google.com/github/devdoe153/llm-proj/blob/main/1_CIFAR10_%EA%B3%BC%EC%A0%9C2_%EB%8F%84%EC%83%81%EC%A7%91.ipynb\" target=\"_parent\"><img src=\"https://colab.research.google.com/assets/colab-badge.svg\" alt=\"Open In Colab\"/></a>"
      ]
    },
    {
      "cell_type": "markdown",
      "metadata": {
        "id": "OPJenlrhihrh"
      },
      "source": [
        "# MNIST 실습\n",
        "\n",
        "이번에는 28x28 흑백 손글씨 이미지를 보고 0~9 사이의 숫자 중 어떤 숫자를 쓴 것인지 예측하는 문제를 실습합니다.\n",
        "이번 실습에서는 GPU를 활용할 것이기 때문에, 이전 챕터에서 Colab에서 GPU를 설정하는 방법을 따라해주시길 바랍니다.\n",
        "\n",
        "GPU를 설정했으면 library들을 import합니다."
      ]
    },
    {
      "cell_type": "code",
      "execution_count": 1,
      "metadata": {
        "id": "6lXVfXoDtoQh"
      },
      "outputs": [],
      "source": [
        "import torch\n",
        "import torchvision\n",
        "import torchvision.transforms as transforms"
      ]
    },
    {
      "cell_type": "markdown",
      "metadata": {
        "id": "pF-1zQvmiult"
      },
      "source": [
        "다음은 dataset을 준비합니다. 손글씨 dataset은 MNIST라는 유명한 dataset이 있습니다. 이 dataset은 `torchvision`에서 제공하고 있으며, 다음과 같이 다운로드 받을 수 있습니다."
      ]
    },
    {
      "cell_type": "code",
      "execution_count": 2,
      "metadata": {
        "colab": {
          "base_uri": "https://localhost:8080/"
        },
        "id": "KAYlqPaRt6ti",
        "outputId": "a60d6f8a-0c8b-4f70-8a69-92238d6078da"
      },
      "outputs": [
        {
          "output_type": "stream",
          "name": "stdout",
          "text": [
            "Downloading https://www.cs.toronto.edu/~kriz/cifar-10-python.tar.gz to ./data/cifar-10-python.tar.gz\n"
          ]
        },
        {
          "output_type": "stream",
          "name": "stderr",
          "text": [
            "100%|██████████| 170498071/170498071 [00:05<00:00, 28566048.38it/s]\n"
          ]
        },
        {
          "output_type": "stream",
          "name": "stdout",
          "text": [
            "Extracting ./data/cifar-10-python.tar.gz to ./data\n",
            "Files already downloaded and verified\n"
          ]
        }
      ],
      "source": [
        "transform = transforms.ToTensor()\n",
        "\n",
        "# CIFAR-10 데이터셋 로드\n",
        "trainset = torchvision.datasets.CIFAR10(\n",
        "    root='./data',\n",
        "    train=True,\n",
        "    download=True,\n",
        "    transform=transform\n",
        ")\n",
        "\n",
        "testset = torchvision.datasets.CIFAR10(\n",
        "    root='./data',\n",
        "    train=False,\n",
        "    download=True,\n",
        "    transform=transform\n",
        ")\n"
      ]
    },
    {
      "cell_type": "markdown",
      "metadata": {
        "id": "p-GqH7_ZjVMs"
      },
      "source": [
        "MNIST는 손글씨 사진과 어떤 숫자를 의미하는지에 대한 label의 pair들로 구성되어있습니다.\n",
        "이 때, 우리는 PyTorch model을 사용할 것이기 때문에 손글씨 사진들을 모두 tensor로 변환해야합니다.\n",
        "이러한 부가적인 변환들은 `torchvision.transforms`에서 제공하고 있으며, `torchvision.datasets.MNIST`에서 `transform` 인자로 받을 수 있습니다.\n",
        "우리는 단순히 사진을 tensor로 바꾸고 싶기 때문에 `transforms.ToTensor()` transformation을 넘겨줍니다.\n",
        "\n",
        "다음은 전체 data의 개수와 첫 번째 data를 출력한 결과입니다."
      ]
    },
    {
      "cell_type": "code",
      "execution_count": 3,
      "metadata": {
        "colab": {
          "base_uri": "https://localhost:8080/",
          "height": 485
        },
        "id": "Zsp3sHmojyhT",
        "outputId": "e44940e8-1811-4050-e12d-e3d2937f3023"
      },
      "outputs": [
        {
          "output_type": "stream",
          "name": "stdout",
          "text": [
            "50000\n",
            "torch.Size([3, 32, 32]) 6\n"
          ]
        },
        {
          "output_type": "execute_result",
          "data": {
            "text/plain": [
              "<matplotlib.image.AxesImage at 0x79fe76884dc0>"
            ]
          },
          "metadata": {},
          "execution_count": 3
        },
        {
          "output_type": "display_data",
          "data": {
            "text/plain": [
              "<Figure size 640x480 with 1 Axes>"
            ],
            "image/png": "[encoded data removed]"
          },
          "metadata": {}
        }
      ],
      "source": [
        "from matplotlib import pyplot as plt\n",
        "\n",
        "\n",
        "print(len(trainset))\n",
        "print(trainset[0][0].shape, trainset[0][1])\n",
        "plt.imshow(trainset[0][0][0], cmap='gray')"
      ]
    },
    {
      "cell_type": "markdown",
      "metadata": {
        "id": "udm8wDBsi301"
      },
      "source": [
        "첫 번째 출력결과를 통해 우리는 6만장의 손글씨 data가 있는 것을 알 수 있습니다.\n",
        "그리고 두 번째 출력결과를 통해 첫 번째 data의 shape은 (1, 28, 28)이고 5라는 숫자를 쓴 사진이라는 것을 알 수 있습니다.\n",
        "마지막으로 `plt.imshow`를 통해 visualize 했을 때 5라는 숫자가 나오는 것을 알 수 있습니다.\n",
        "\n",
        "다음은 SGD를 위해 dataset을 여러 개의 batch로 나누는 과정을 PyTorch로 구현한 모습입니다."
      ]
    },
    {
      "cell_type": "code",
      "execution_count": 4,
      "metadata": {
        "id": "UxKu3kA2i5WH"
      },
      "outputs": [],
      "source": [
        "# 배치 사이즈\n",
        "batch_size = 256\n",
        "\n",
        "trainloader = torch.utils.data.DataLoader(\n",
        "    trainset,\n",
        "    batch_size=batch_size,\n",
        "    shuffle=True\n",
        ")\n",
        "\n",
        "testloader = torch.utils.data.DataLoader(\n",
        "    testset,\n",
        "    batch_size=batch_size,\n",
        "    shuffle=False\n",
        ")"
      ]
    },
    {
      "cell_type": "markdown",
      "metadata": {
        "id": "z4Qyrm4WlzWt"
      },
      "source": [
        "PyTorch에서는 `DataLoader`가 dataset을 인자로 받아 batch로 나눠줍니다.\n",
        "부가적으로 `batch_size`라는 인자를 통해 batch size를 받고 있으며, `shuffle`이라는 인자를 통해 data들을 섞을지 결정해줍니다.\n",
        "우리는 SGD가 완전 랜덤으로 batch를 구성해야 잘 동작하는 것을 알고 있기 때문에 `shuffle`에 `True`를 넘겨주고 있습니다.\n",
        "\n",
        "다음은 첫 번째 batch를 출력한 모습입니다."
      ]
    },
    {
      "cell_type": "code",
      "execution_count": 5,
      "metadata": {
        "colab": {
          "base_uri": "https://localhost:8080/"
        },
        "id": "_Hd7XxyAvVNz",
        "outputId": "565caefe-2608-411f-957b-c070479b8fb6"
      },
      "outputs": [
        {
          "output_type": "stream",
          "name": "stdout",
          "text": [
            "torch.Size([256, 3, 32, 32]) torch.Size([256])\n"
          ]
        }
      ],
      "source": [
        "dataiter = iter(trainloader)\n",
        "images, labels = next(dataiter)\n",
        "print(images.shape, labels.shape)"
      ]
    },
    {
      "cell_type": "markdown",
      "metadata": {
        "id": "h0ZY5mDimRUK"
      },
      "source": [
        "`images`는 첫 번째 batch의 image들이고 `labels`는 첫 번째 batch의 label들입니다.\n",
        "위에서 batch size를 64로 설정했기 때문에 총 64개의 image와 label들이 있어야 합니다.\n",
        "실제 shape 출력 결과를 보면 그렇다는 것을 알 수 있습니다.\n",
        "\n",
        "다음은 (n, 1, 28, 28) shape의 image를 입력받아 0~9 사이의 정수 하나를 출력하는 3-layer MLP를 구현합니다."
      ]
    },
    {
      "cell_type": "code",
      "execution_count": 7,
      "metadata": {
        "id": "OLOA-ZGTuVVG"
      },
      "outputs": [],
      "source": [
        "from torch import nn\n",
        "\n",
        "\n",
        "# 모델정의 ( 활성화 함수 nn.LeakyReLu 사용)\n",
        "\n",
        "class Model(nn.Module):\n",
        "  def __init__(self, input_dim, n_dim):\n",
        "    super().__init__()\n",
        "\n",
        "    self.layer1 = nn.Linear(input_dim, n_dim)\n",
        "    self.layer2 = nn.Linear(n_dim, n_dim)\n",
        "    self.layer3 = nn.Linear(n_dim, 10)\n",
        "\n",
        "    self.act = nn.LeakyReLU()\n",
        "\n",
        "  def forward(self, x):\n",
        "    x = torch.flatten(x, start_dim=1)\n",
        "    x = self.act(self.layer1(x))\n",
        "    x = self.act(self.layer2(x))\n",
        "    x = self.layer3(x)\n",
        "\n",
        "    return x\n",
        "\n",
        "model_sgd = Model(32 * 32 * 3, 1024).to('cuda') # sgd 모델\n",
        "model_adam = Model(32 * 32 * 3, 1024).to('cuda') # adam 모델"
      ]
    },
    {
      "cell_type": "markdown",
      "metadata": {
        "id": "tag1rNcwmnAr"
      },
      "source": [
        "이전의 2-layer MLP와 유사한 형태임을 알 수 있습니다.\n",
        "여기서 특이사항은 `forward`의 첫 번째 줄에 `torch.flatten`을 사용한다는 것입니다.\n",
        "`Linear`는 이전에도 봤다시피 (n, d) 형태의 shape을 입력받습니다.\n",
        "이미지는 (n, 1, 28, 28)이기 때문에 (n, 1 * 28 * 28)로 shape을 변환해야 선형 함수에 입력으로 주어줄 수 있게 됩니다.\n",
        "이 역할을 수행하는 것이 바로 `torch.flatten`입니다.\n",
        "우리는 첫 번째 shape인 n을 보존할 것이기 때문에 flatten할 차원은 `start_dim=1`로 넘겨주게 됩니다.\n",
        "\n",
        "다음은 gradient descent를 수행해줄 optimizer를 구현하는 모습입니다."
      ]
    },
    {
      "cell_type": "code",
      "execution_count": null,
      "metadata": {
        "id": "4uTZlGlRm859"
      },
      "outputs": [],
      "source": [
        "!CUDA_LAUNCH_BLOCKING=1"
      ]
    },
    {
      "cell_type": "code",
      "execution_count": 8,
      "metadata": {
        "id": "ypS0TcOlvBhZ"
      },
      "outputs": [],
      "source": [
        "from torch.optim import SGD, Adam\n",
        "\n",
        "lr = 0.001\n",
        "\n",
        "criterion = nn.CrossEntropyLoss()\n",
        "\n",
        "optimizer_sgd = SGD(model_sgd.parameters(), lr=lr)\n",
        "optimizer_adam = Adam(model_adam.parameters(), lr=lr)"
      ]
    },
    {
      "cell_type": "markdown",
      "metadata": {
        "id": "5PooeOKMnRfZ"
      },
      "source": [
        "이전 코드와 거의 똑같습니다. 다른 점은 `model.to('cuda')` 코드를 통해 우리가 구현한 model을 GPU로 옮긴 것입니다.\n",
        "MNIST 부터는 모델과 data가 커지면서 훨씬 많은 행렬 연산이 이루어지기 때문에 GPU를 활용하는 것이 빠릅니다.\n",
        "\n",
        "다음은 model을 MNIST에 학습하는 코드입니다."
      ]
    },
    {
      "cell_type": "code",
      "execution_count": 9,
      "metadata": {
        "id": "c6o-r50uhTDw"
      },
      "outputs": [],
      "source": [
        "def accuracy(model, dataloader):\n",
        "  cnt = 0\n",
        "  acc = 0\n",
        "\n",
        "  for data in dataloader:\n",
        "    inputs, labels = data\n",
        "    inputs, labels = inputs.to('cuda'), labels.to('cuda')\n",
        "\n",
        "    preds = model(inputs)\n",
        "    preds = torch.argmax(preds, dim=-1)\n",
        "\n",
        "    cnt += labels.shape[0]\n",
        "    acc += (labels == preds).sum().item()\n",
        "\n",
        "  return acc / cnt"
      ]
    },
    {
      "cell_type": "code",
      "execution_count": 10,
      "metadata": {
        "colab": {
          "base_uri": "https://localhost:8080/"
        },
        "id": "7qJECyO2op4A",
        "outputId": "0cf12a3e-4dbe-49ce-8026-bcddf8929a4e"
      },
      "outputs": [
        {
          "output_type": "stream",
          "name": "stdout",
          "text": [
            "Epoch 1/50, SGD Loss: 450.5522, Adam Loss: 370.6016\n",
            "SGD Train Acc: 0.1143, Adam Train Acc: 0.3885\n",
            "Epoch 2/50, SGD Loss: 448.3212, Adam Loss: 325.9457\n",
            "SGD Train Acc: 0.1633, Adam Train Acc: 0.4143\n",
            "Epoch 3/50, SGD Loss: 446.5248, Adam Loss: 306.6576\n",
            "SGD Train Acc: 0.1609, Adam Train Acc: 0.4512\n",
            "Epoch 4/50, SGD Loss: 444.7990, Adam Loss: 295.5823\n",
            "SGD Train Acc: 0.1696, Adam Train Acc: 0.4462\n",
            "Epoch 5/50, SGD Loss: 443.0233, Adam Loss: 285.4637\n",
            "SGD Train Acc: 0.1852, Adam Train Acc: 0.4906\n",
            "Epoch 6/50, SGD Loss: 441.0911, Adam Loss: 278.9205\n",
            "SGD Train Acc: 0.1937, Adam Train Acc: 0.4978\n",
            "Epoch 7/50, SGD Loss: 439.0068, Adam Loss: 271.5809\n",
            "SGD Train Acc: 0.2132, Adam Train Acc: 0.5174\n",
            "Epoch 8/50, SGD Loss: 436.7305, Adam Loss: 264.0783\n",
            "SGD Train Acc: 0.2229, Adam Train Acc: 0.5128\n",
            "Epoch 9/50, SGD Loss: 434.2292, Adam Loss: 258.6842\n",
            "SGD Train Acc: 0.2284, Adam Train Acc: 0.5519\n",
            "Epoch 10/50, SGD Loss: 431.5510, Adam Loss: 251.8737\n",
            "SGD Train Acc: 0.2372, Adam Train Acc: 0.5543\n",
            "Epoch 11/50, SGD Loss: 428.6874, Adam Loss: 245.7672\n",
            "SGD Train Acc: 0.2399, Adam Train Acc: 0.5752\n",
            "Epoch 12/50, SGD Loss: 425.7652, Adam Loss: 240.0857\n",
            "SGD Train Acc: 0.2435, Adam Train Acc: 0.5695\n",
            "Epoch 13/50, SGD Loss: 422.7346, Adam Loss: 234.7396\n",
            "SGD Train Acc: 0.2486, Adam Train Acc: 0.5853\n",
            "Epoch 14/50, SGD Loss: 419.6969, Adam Loss: 230.5721\n",
            "SGD Train Acc: 0.2530, Adam Train Acc: 0.6001\n",
            "Epoch 15/50, SGD Loss: 416.6701, Adam Loss: 223.7696\n",
            "SGD Train Acc: 0.2596, Adam Train Acc: 0.6093\n",
            "Epoch 16/50, SGD Loss: 413.8285, Adam Loss: 217.6306\n",
            "SGD Train Acc: 0.2646, Adam Train Acc: 0.6115\n",
            "Epoch 17/50, SGD Loss: 411.0328, Adam Loss: 214.1766\n",
            "SGD Train Acc: 0.2678, Adam Train Acc: 0.6244\n",
            "Epoch 18/50, SGD Loss: 408.4582, Adam Loss: 208.0875\n",
            "SGD Train Acc: 0.2705, Adam Train Acc: 0.6171\n",
            "Epoch 19/50, SGD Loss: 406.0940, Adam Loss: 203.6290\n",
            "SGD Train Acc: 0.2779, Adam Train Acc: 0.6407\n",
            "Epoch 20/50, SGD Loss: 403.8295, Adam Loss: 198.0696\n",
            "SGD Train Acc: 0.2792, Adam Train Acc: 0.6546\n",
            "Epoch 21/50, SGD Loss: 401.6723, Adam Loss: 193.2334\n",
            "SGD Train Acc: 0.2823, Adam Train Acc: 0.6448\n",
            "Epoch 22/50, SGD Loss: 399.7679, Adam Loss: 186.6727\n",
            "SGD Train Acc: 0.2884, Adam Train Acc: 0.6793\n",
            "Epoch 23/50, SGD Loss: 397.9121, Adam Loss: 181.5199\n",
            "SGD Train Acc: 0.2884, Adam Train Acc: 0.6769\n",
            "Epoch 24/50, SGD Loss: 396.1125, Adam Loss: 175.9244\n",
            "SGD Train Acc: 0.2921, Adam Train Acc: 0.6834\n",
            "Epoch 25/50, SGD Loss: 394.4845, Adam Loss: 169.7773\n",
            "SGD Train Acc: 0.2936, Adam Train Acc: 0.7072\n",
            "Epoch 26/50, SGD Loss: 392.9021, Adam Loss: 168.0450\n",
            "SGD Train Acc: 0.2983, Adam Train Acc: 0.7058\n",
            "Epoch 27/50, SGD Loss: 391.3513, Adam Loss: 161.3407\n",
            "SGD Train Acc: 0.2981, Adam Train Acc: 0.6679\n",
            "Epoch 28/50, SGD Loss: 389.9402, Adam Loss: 159.1833\n",
            "SGD Train Acc: 0.2997, Adam Train Acc: 0.7319\n",
            "Epoch 29/50, SGD Loss: 388.5913, Adam Loss: 151.4748\n",
            "SGD Train Acc: 0.3022, Adam Train Acc: 0.7330\n",
            "Epoch 30/50, SGD Loss: 387.2137, Adam Loss: 145.2898\n",
            "SGD Train Acc: 0.3054, Adam Train Acc: 0.7530\n",
            "Epoch 31/50, SGD Loss: 386.0770, Adam Loss: 141.2401\n",
            "SGD Train Acc: 0.3077, Adam Train Acc: 0.7665\n",
            "Epoch 32/50, SGD Loss: 384.9062, Adam Loss: 134.2819\n",
            "SGD Train Acc: 0.3091, Adam Train Acc: 0.7773\n",
            "Epoch 33/50, SGD Loss: 383.6828, Adam Loss: 129.2417\n",
            "SGD Train Acc: 0.3105, Adam Train Acc: 0.7735\n",
            "Epoch 34/50, SGD Loss: 382.6781, Adam Loss: 125.5316\n",
            "SGD Train Acc: 0.3144, Adam Train Acc: 0.7975\n",
            "Epoch 35/50, SGD Loss: 381.6115, Adam Loss: 120.1338\n",
            "SGD Train Acc: 0.3154, Adam Train Acc: 0.7878\n",
            "Epoch 36/50, SGD Loss: 380.7012, Adam Loss: 115.3626\n",
            "SGD Train Acc: 0.3181, Adam Train Acc: 0.8126\n",
            "Epoch 37/50, SGD Loss: 379.6865, Adam Loss: 111.8971\n",
            "SGD Train Acc: 0.3186, Adam Train Acc: 0.7975\n",
            "Epoch 38/50, SGD Loss: 378.7279, Adam Loss: 108.0360\n",
            "SGD Train Acc: 0.3201, Adam Train Acc: 0.8214\n",
            "Epoch 39/50, SGD Loss: 377.8082, Adam Loss: 102.7650\n",
            "SGD Train Acc: 0.3225, Adam Train Acc: 0.8177\n",
            "Epoch 40/50, SGD Loss: 377.0866, Adam Loss: 97.7399\n",
            "SGD Train Acc: 0.3241, Adam Train Acc: 0.8392\n",
            "Epoch 41/50, SGD Loss: 376.1785, Adam Loss: 95.3605\n",
            "SGD Train Acc: 0.3258, Adam Train Acc: 0.8475\n",
            "Epoch 42/50, SGD Loss: 375.3271, Adam Loss: 91.4205\n",
            "SGD Train Acc: 0.3267, Adam Train Acc: 0.8456\n",
            "Epoch 43/50, SGD Loss: 374.7030, Adam Loss: 88.8951\n",
            "SGD Train Acc: 0.3280, Adam Train Acc: 0.8296\n",
            "Epoch 44/50, SGD Loss: 373.9049, Adam Loss: 82.5125\n",
            "SGD Train Acc: 0.3306, Adam Train Acc: 0.8771\n",
            "Epoch 45/50, SGD Loss: 373.2249, Adam Loss: 80.7292\n",
            "SGD Train Acc: 0.3314, Adam Train Acc: 0.8732\n",
            "Epoch 46/50, SGD Loss: 372.5249, Adam Loss: 78.6155\n",
            "SGD Train Acc: 0.3328, Adam Train Acc: 0.8686\n",
            "Epoch 47/50, SGD Loss: 371.7709, Adam Loss: 73.7825\n",
            "SGD Train Acc: 0.3356, Adam Train Acc: 0.8779\n",
            "Epoch 48/50, SGD Loss: 371.1181, Adam Loss: 69.3967\n",
            "SGD Train Acc: 0.3355, Adam Train Acc: 0.8882\n",
            "Epoch 49/50, SGD Loss: 370.4101, Adam Loss: 70.2485\n",
            "SGD Train Acc: 0.3367, Adam Train Acc: 0.8679\n",
            "Epoch 50/50, SGD Loss: 369.8406, Adam Loss: 69.7735\n",
            "SGD Train Acc: 0.3381, Adam Train Acc: 0.8862\n"
          ]
        }
      ],
      "source": [
        "n_epochs = 50 # 50 설정\n",
        "train_accs_sgd = []\n",
        "train_accs_adam = []\n",
        "# test_accs = []\n",
        "\n",
        "for epoch in range(n_epochs):\n",
        "\n",
        "  # 모델 Adam 학습\n",
        "  model_adam.train()\n",
        "  total_loss_adam = 0.0\n",
        "  for data in trainloader:\n",
        "    model_sgd.zero_grad()\n",
        "    inputs, labels = data\n",
        "    inputs, labels = inputs.to('cuda'), labels.to('cuda')\n",
        "\n",
        "    optimizer_adam.zero_grad()\n",
        "    preds = model_adam(inputs)\n",
        "    loss = criterion(preds, labels)\n",
        "    loss.backward()\n",
        "    optimizer_adam.step()\n",
        "\n",
        "    total_loss_adam += loss.item()\n",
        "\n",
        "  # Epoch 끝날 때마다 정확도 측정\n",
        "  train_acc_adam = accuracy(model_adam, trainloader)\n",
        "  # test_acc = accuracy(model, testloader)\n",
        "  train_accs_adam.append(train_acc_adam)\n",
        "  # test_accs.append(test_acc)\n",
        "\n",
        "  # 모델 SGD 학습\n",
        "  model_sgd.train()\n",
        "  total_loss_sgd = 0.0\n",
        "  for data in trainloader:\n",
        "    model_sgd.zero_grad()\n",
        "    inputs, labels = data\n",
        "    inputs, labels = inputs.to('cuda'), labels.to('cuda')\n",
        "\n",
        "    optimizer_sgd.zero_grad()\n",
        "    preds = model_sgd(inputs)\n",
        "    loss = criterion(preds, labels)\n",
        "    loss.backward()\n",
        "    optimizer_sgd.step()\n",
        "\n",
        "    total_loss_sgd += loss.item()\n",
        "\n",
        "  # Epoch 끝날 때마다 정확도 측정\n",
        "  train_acc_sgd = accuracy(model_sgd, trainloader)\n",
        "  # test_acc = accuracy(model, testloader)\n",
        "  train_accs_sgd.append(train_acc_sgd)\n",
        "  # test_accs.append(test_acc)\n",
        "\n",
        "  print(f\"Epoch {epoch+1}/{n_epochs}, SGD Loss: {total_loss_sgd:.4f}, Adam Loss: {total_loss_adam:.4f}\")\n",
        "  print(f\"SGD Train Acc: {train_acc_sgd:.4f}, Adam Train Acc: {train_acc_adam:.4f}\")"
      ]
    },
    {
      "cell_type": "markdown",
      "metadata": {
        "id": "YRDcptrqniX7"
      },
      "source": [
        "출력 결과를 보면 잘 수렴하는 것을 볼 수 있습니다.\n",
        "이전 구현과 다른 점은 다음 두 가지입니다.\n",
        "- `for data in trainloader`를 통해 batch들을 iterate하면서 model을 학습합니다.\n",
        "- `inputs, labels = inputs.to('cuda'), labels.to('cuda')`를 통해 model의 입력으로 들어가는 tensor들을 GPU로 보냅니다.\n",
        "\n",
        "마지막으로 첫 번째 data에 대한 예측 결과를 살펴봅시다."
      ]
    },
    {
      "cell_type": "markdown",
      "metadata": {
        "id": "qzgSOrMsoZ2z"
      },
      "source": [
        "여기서 idx를 조정하여 다른 data에 대한 출력 결과도 볼 수 있습니다.\n",
        "예측 결과를 보시면 아직 성능이 그렇게 좋지 않은 것을 알 수 있습니다."
      ]
    },
    {
      "cell_type": "code",
      "execution_count": 11,
      "metadata": {
        "id": "d6M4SpWQoML9",
        "colab": {
          "base_uri": "https://localhost:8080/",
          "height": 472
        },
        "outputId": "2efea579-b97d-45c8-d6d2-21563e7c45b4"
      },
      "outputs": [
        {
          "output_type": "display_data",
          "data": {
            "text/plain": [
              "<Figure size 640x480 with 1 Axes>"
            ],
            "image/png": "[encoded data removed]"
          },
          "metadata": {}
        }
      ],
      "source": [
        "# 정확도 시각화\n",
        "import numpy as np\n",
        "import matplotlib.pyplot as plt\n",
        "\n",
        "# 6. 정확도 그래프 그리기\n",
        "def plot_acc(train_accs_sgd, train_accs_adam):\n",
        "    x = np.arange(len(train_accs_sgd))\n",
        "    plt.plot(x, train_accs_sgd, label='SGD')\n",
        "    plt.plot(x, train_accs_adam, label='Adam')\n",
        "    plt.legend()\n",
        "    plt.title('Train Accuracy per Epoch')\n",
        "    plt.xlabel('Epoch')\n",
        "    plt.ylabel('Accuracy')\n",
        "    plt.show()\n",
        "\n",
        "# SGD와 Adam의 학습 정확도 비교 플롯\n",
        "plot_acc(train_accs_sgd, train_accs_adam)"
      ]
    },
    {
      "cell_type": "code",
      "source": [
        "# Leaky ReLU와 Sigmoid 성능 비교\n",
        "\n",
        "# LeakyReLUModel 모델 정의 (활성화 함수: Leaky ReLU)\n",
        "class LeakyReLUModel(nn.Module):\n",
        "    def __init__(self, input_dim, n_dim):\n",
        "        super().__init__()\n",
        "        self.layer1 = nn.Linear(input_dim, n_dim)\n",
        "        self.layer2 = nn.Linear(n_dim, n_dim)\n",
        "        self.layer3 = nn.Linear(n_dim, 10)\n",
        "        self.act = nn.LeakyReLU()\n",
        "\n",
        "    def forward(self, x):\n",
        "        x = torch.flatten(x, start_dim=1)\n",
        "        x = self.act(self.layer1(x))\n",
        "        x = self.act(self.layer2(x))\n",
        "        x = self.layer3(x)\n",
        "        return x\n",
        "\n",
        "# SigmoidModel 모델 정의 (활성화 함수: Sigmoid)\n",
        "class SigmoidModel(nn.Module):\n",
        "    def __init__(self, input_dim, n_dim):\n",
        "        super().__init__()\n",
        "        self.layer1 = nn.Linear(input_dim, n_dim)\n",
        "        self.layer2 = nn.Linear(n_dim, n_dim)\n",
        "        self.layer3 = nn.Linear(n_dim, 10)\n",
        "        self.act = nn.Sigmoid()\n",
        "\n",
        "    def forward(self, x):\n",
        "        x = torch.flatten(x, start_dim=1)\n",
        "        x = self.act(self.layer1(x))\n",
        "        x = self.act(self.layer2(x))\n",
        "        x = self.layer3(x)\n",
        "        return x\n",
        ""
      ],
      "metadata": {
        "id": "sTgDLZKs7zKR"
      },
      "execution_count": 13,
      "outputs": []
    },
    {
      "cell_type": "code",
      "source": [
        "# CIFAR10 이미지를 위한 모델 입력 크기 조정 (3 * 32 * 32)\n",
        "model_leaky_relu = LeakyReLUModel(32 * 32 * 3, 1024).to('cuda')\n",
        "model_sigmoid = SigmoidModel(32 * 32 * 3, 1024).to('cuda')\n",
        "\n",
        "# 손실 함수\n",
        "criterion = nn.CrossEntropyLoss()\n",
        "\n",
        "# Adam 옵티마이저 설정\n",
        "optimizer_leaky_relu = Adam(model_leaky_relu.parameters(), lr=0.001)\n",
        "optimizer_sigmoid = Adam(model_sigmoid.parameters(), lr=0.001)"
      ],
      "metadata": {
        "id": "YtfmR36W8KpD"
      },
      "execution_count": 16,
      "outputs": []
    },
    {
      "cell_type": "code",
      "source": [
        "# 학습 루프 (Leaky ReLU와 Sigmoid에 대해 각각 Adam을 사용하여 학습)\n",
        "n_epochs = 50\n",
        "train_accs_leaky_relu = []\n",
        "train_accs_sigmoid = []\n",
        "\n",
        "for epoch in range(n_epochs):\n",
        "    # Leaky ReLU 모델 학습\n",
        "    model_leaky_relu.train()\n",
        "    total_loss_leaky_relu = 0.0\n",
        "    for data in trainloader:\n",
        "        inputs, labels = data\n",
        "        inputs, labels = inputs.to('cuda'), labels.to('cuda')\n",
        "\n",
        "        optimizer_leaky_relu.zero_grad()\n",
        "        preds = model_leaky_relu(inputs)\n",
        "        loss = criterion(preds, labels)\n",
        "        loss.backward()\n",
        "        optimizer_leaky_relu.step()\n",
        "        total_loss_leaky_relu += loss.item()\n",
        "\n",
        "    train_acc_leaky_relu = accuracy(model_leaky_relu, trainloader)\n",
        "    train_accs_leaky_relu.append(train_acc_leaky_relu)\n",
        "\n",
        "    # Sigmoid 모델 학습\n",
        "    model_sigmoid.train()\n",
        "    total_loss_sigmoid = 0.0\n",
        "    for data in trainloader:\n",
        "        inputs, labels = data\n",
        "        inputs, labels = inputs.to('cuda'), labels.to('cuda')\n",
        "\n",
        "        optimizer_sigmoid.zero_grad()\n",
        "        preds = model_sigmoid(inputs)\n",
        "        loss = criterion(preds, labels)\n",
        "        loss.backward()\n",
        "        optimizer_sigmoid.step()\n",
        "        total_loss_sigmoid += loss.item()\n",
        "\n",
        "    train_acc_sigmoid = accuracy(model_sigmoid, trainloader)\n",
        "    train_accs_sigmoid.append(train_acc_sigmoid)\n",
        "\n",
        "    print(f\"Epoch {epoch+1}/{n_epochs}, Leaky ReLU Loss: {total_loss_leaky_relu:.4f}, Sigmoid Loss: {total_loss_sigmoid:.4f}\")\n",
        "    print(f\"Leaky ReLU Train Acc: {train_acc_leaky_relu:.4f}, Sigmoid Train Acc: {train_acc_sigmoid:.4f}\")\n"
      ],
      "metadata": {
        "colab": {
          "base_uri": "https://localhost:8080/"
        },
        "id": "Im-kPzEE8uBm",
        "outputId": "51d4bbf4-5510-404d-c0d8-9b7aa2b27aff"
      },
      "execution_count": 18,
      "outputs": [
        {
          "output_type": "stream",
          "name": "stdout",
          "text": [
            "Epoch 1/50, Leaky ReLU Loss: 66.5974, Sigmoid Loss: 152.5296\n",
            "Leaky ReLU Train Acc: 0.9027, Sigmoid Train Acc: 0.7120\n",
            "Epoch 2/50, Leaky ReLU Loss: 59.5842, Sigmoid Loss: 151.0596\n",
            "Leaky ReLU Train Acc: 0.8810, Sigmoid Train Acc: 0.7326\n",
            "Epoch 3/50, Leaky ReLU Loss: 58.0495, Sigmoid Loss: 148.4997\n",
            "Leaky ReLU Train Acc: 0.9033, Sigmoid Train Acc: 0.7425\n",
            "Epoch 4/50, Leaky ReLU Loss: 53.3536, Sigmoid Loss: 146.3732\n",
            "Leaky ReLU Train Acc: 0.9077, Sigmoid Train Acc: 0.7292\n",
            "Epoch 5/50, Leaky ReLU Loss: 53.3746, Sigmoid Loss: 144.1752\n",
            "Leaky ReLU Train Acc: 0.9238, Sigmoid Train Acc: 0.7412\n",
            "Epoch 6/50, Leaky ReLU Loss: 50.7407, Sigmoid Loss: 139.5907\n",
            "Leaky ReLU Train Acc: 0.9107, Sigmoid Train Acc: 0.7580\n",
            "Epoch 7/50, Leaky ReLU Loss: 50.2061, Sigmoid Loss: 139.7189\n",
            "Leaky ReLU Train Acc: 0.9214, Sigmoid Train Acc: 0.7351\n",
            "Epoch 8/50, Leaky ReLU Loss: 49.0875, Sigmoid Loss: 138.8778\n",
            "Leaky ReLU Train Acc: 0.9261, Sigmoid Train Acc: 0.7594\n",
            "Epoch 9/50, Leaky ReLU Loss: 45.4182, Sigmoid Loss: 136.8615\n",
            "Leaky ReLU Train Acc: 0.9226, Sigmoid Train Acc: 0.7529\n",
            "Epoch 10/50, Leaky ReLU Loss: 50.2228, Sigmoid Loss: 132.3380\n",
            "Leaky ReLU Train Acc: 0.9187, Sigmoid Train Acc: 0.7461\n",
            "Epoch 11/50, Leaky ReLU Loss: 48.1207, Sigmoid Loss: 132.9348\n",
            "Leaky ReLU Train Acc: 0.9076, Sigmoid Train Acc: 0.7584\n",
            "Epoch 12/50, Leaky ReLU Loss: 41.9470, Sigmoid Loss: 129.3684\n",
            "Leaky ReLU Train Acc: 0.9330, Sigmoid Train Acc: 0.7691\n",
            "Epoch 13/50, Leaky ReLU Loss: 43.7964, Sigmoid Loss: 127.6241\n",
            "Leaky ReLU Train Acc: 0.9304, Sigmoid Train Acc: 0.7626\n",
            "Epoch 14/50, Leaky ReLU Loss: 41.4811, Sigmoid Loss: 126.8167\n",
            "Leaky ReLU Train Acc: 0.9377, Sigmoid Train Acc: 0.7636\n",
            "Epoch 15/50, Leaky ReLU Loss: 42.2567, Sigmoid Loss: 124.7994\n",
            "Leaky ReLU Train Acc: 0.9288, Sigmoid Train Acc: 0.7669\n",
            "Epoch 16/50, Leaky ReLU Loss: 41.1331, Sigmoid Loss: 121.3231\n",
            "Leaky ReLU Train Acc: 0.9361, Sigmoid Train Acc: 0.7715\n",
            "Epoch 17/50, Leaky ReLU Loss: 39.4874, Sigmoid Loss: 120.0014\n",
            "Leaky ReLU Train Acc: 0.9437, Sigmoid Train Acc: 0.7820\n",
            "Epoch 18/50, Leaky ReLU Loss: 33.9083, Sigmoid Loss: 118.1668\n",
            "Leaky ReLU Train Acc: 0.9585, Sigmoid Train Acc: 0.7684\n",
            "Epoch 19/50, Leaky ReLU Loss: 34.0874, Sigmoid Loss: 116.5845\n",
            "Leaky ReLU Train Acc: 0.9340, Sigmoid Train Acc: 0.8112\n",
            "Epoch 20/50, Leaky ReLU Loss: 38.7220, Sigmoid Loss: 112.4822\n",
            "Leaky ReLU Train Acc: 0.9233, Sigmoid Train Acc: 0.7752\n",
            "Epoch 21/50, Leaky ReLU Loss: 38.3262, Sigmoid Loss: 111.8597\n",
            "Leaky ReLU Train Acc: 0.9492, Sigmoid Train Acc: 0.7954\n",
            "Epoch 22/50, Leaky ReLU Loss: 37.5111, Sigmoid Loss: 112.4844\n",
            "Leaky ReLU Train Acc: 0.9268, Sigmoid Train Acc: 0.7961\n",
            "Epoch 23/50, Leaky ReLU Loss: 36.2338, Sigmoid Loss: 109.5209\n",
            "Leaky ReLU Train Acc: 0.9569, Sigmoid Train Acc: 0.7742\n",
            "Epoch 24/50, Leaky ReLU Loss: 28.3837, Sigmoid Loss: 109.5775\n",
            "Leaky ReLU Train Acc: 0.9567, Sigmoid Train Acc: 0.8122\n",
            "Epoch 25/50, Leaky ReLU Loss: 28.4495, Sigmoid Loss: 105.0436\n",
            "Leaky ReLU Train Acc: 0.9246, Sigmoid Train Acc: 0.8014\n",
            "Epoch 26/50, Leaky ReLU Loss: 30.4409, Sigmoid Loss: 102.1249\n",
            "Leaky ReLU Train Acc: 0.9574, Sigmoid Train Acc: 0.8174\n",
            "Epoch 27/50, Leaky ReLU Loss: 31.9889, Sigmoid Loss: 104.5593\n",
            "Leaky ReLU Train Acc: 0.9191, Sigmoid Train Acc: 0.8248\n",
            "Epoch 28/50, Leaky ReLU Loss: 46.8238, Sigmoid Loss: 100.4077\n",
            "Leaky ReLU Train Acc: 0.9368, Sigmoid Train Acc: 0.8205\n",
            "Epoch 29/50, Leaky ReLU Loss: 36.5475, Sigmoid Loss: 99.2624\n",
            "Leaky ReLU Train Acc: 0.9506, Sigmoid Train Acc: 0.8158\n",
            "Epoch 30/50, Leaky ReLU Loss: 28.4179, Sigmoid Loss: 100.8503\n",
            "Leaky ReLU Train Acc: 0.9539, Sigmoid Train Acc: 0.8334\n",
            "Epoch 31/50, Leaky ReLU Loss: 21.0674, Sigmoid Loss: 97.6364\n",
            "Leaky ReLU Train Acc: 0.9709, Sigmoid Train Acc: 0.8386\n",
            "Epoch 32/50, Leaky ReLU Loss: 22.8642, Sigmoid Loss: 94.7959\n",
            "Leaky ReLU Train Acc: 0.9480, Sigmoid Train Acc: 0.8158\n",
            "Epoch 33/50, Leaky ReLU Loss: 29.1348, Sigmoid Loss: 94.5369\n",
            "Leaky ReLU Train Acc: 0.9479, Sigmoid Train Acc: 0.8438\n",
            "Epoch 34/50, Leaky ReLU Loss: 40.9548, Sigmoid Loss: 90.9598\n",
            "Leaky ReLU Train Acc: 0.9226, Sigmoid Train Acc: 0.8351\n",
            "Epoch 35/50, Leaky ReLU Loss: 29.9116, Sigmoid Loss: 91.4424\n",
            "Leaky ReLU Train Acc: 0.9457, Sigmoid Train Acc: 0.8478\n",
            "Epoch 36/50, Leaky ReLU Loss: 28.6711, Sigmoid Loss: 89.7509\n",
            "Leaky ReLU Train Acc: 0.9532, Sigmoid Train Acc: 0.8322\n",
            "Epoch 37/50, Leaky ReLU Loss: 21.4564, Sigmoid Loss: 86.5469\n",
            "Leaky ReLU Train Acc: 0.9704, Sigmoid Train Acc: 0.8582\n",
            "Epoch 38/50, Leaky ReLU Loss: 23.3365, Sigmoid Loss: 83.3265\n",
            "Leaky ReLU Train Acc: 0.9624, Sigmoid Train Acc: 0.8634\n",
            "Epoch 39/50, Leaky ReLU Loss: 26.6435, Sigmoid Loss: 87.0703\n",
            "Leaky ReLU Train Acc: 0.9446, Sigmoid Train Acc: 0.7988\n",
            "Epoch 40/50, Leaky ReLU Loss: 38.5965, Sigmoid Loss: 85.5291\n",
            "Leaky ReLU Train Acc: 0.9508, Sigmoid Train Acc: 0.8435\n",
            "Epoch 41/50, Leaky ReLU Loss: 28.9779, Sigmoid Loss: 83.3936\n",
            "Leaky ReLU Train Acc: 0.9558, Sigmoid Train Acc: 0.8627\n",
            "Epoch 42/50, Leaky ReLU Loss: 23.5131, Sigmoid Loss: 80.2621\n",
            "Leaky ReLU Train Acc: 0.9494, Sigmoid Train Acc: 0.8618\n",
            "Epoch 43/50, Leaky ReLU Loss: 24.4386, Sigmoid Loss: 82.6543\n",
            "Leaky ReLU Train Acc: 0.9544, Sigmoid Train Acc: 0.8622\n",
            "Epoch 44/50, Leaky ReLU Loss: 25.7901, Sigmoid Loss: 78.9718\n",
            "Leaky ReLU Train Acc: 0.9449, Sigmoid Train Acc: 0.8805\n",
            "Epoch 45/50, Leaky ReLU Loss: 31.2700, Sigmoid Loss: 77.3563\n",
            "Leaky ReLU Train Acc: 0.9618, Sigmoid Train Acc: 0.8627\n",
            "Epoch 46/50, Leaky ReLU Loss: 28.4237, Sigmoid Loss: 75.2068\n",
            "Leaky ReLU Train Acc: 0.9515, Sigmoid Train Acc: 0.8503\n",
            "Epoch 47/50, Leaky ReLU Loss: 23.0498, Sigmoid Loss: 75.1586\n",
            "Leaky ReLU Train Acc: 0.9632, Sigmoid Train Acc: 0.8365\n",
            "Epoch 48/50, Leaky ReLU Loss: 21.1287, Sigmoid Loss: 72.8001\n",
            "Leaky ReLU Train Acc: 0.9452, Sigmoid Train Acc: 0.8872\n",
            "Epoch 49/50, Leaky ReLU Loss: 22.5880, Sigmoid Loss: 72.6307\n",
            "Leaky ReLU Train Acc: 0.9459, Sigmoid Train Acc: 0.8723\n",
            "Epoch 50/50, Leaky ReLU Loss: 28.7293, Sigmoid Loss: 75.0263\n",
            "Leaky ReLU Train Acc: 0.9615, Sigmoid Train Acc: 0.8665\n"
          ]
        }
      ]
    },
    {
      "cell_type": "code",
      "source": [
        "# 정확도 그래프 그리기\n",
        "def plot_acc(train_accs_leaky_relu, train_accs_sigmoid):\n",
        "    x = np.arange(len(train_accs_leaky_relu))\n",
        "    plt.plot(x, train_accs_leaky_relu, label='Leaky ReLU')\n",
        "    plt.plot(x, train_accs_sigmoid, label='Sigmoid')\n",
        "    plt.legend()\n",
        "    plt.title('Train Accuracy per Epoch (Leaky ReLU vs Sigmoid)')\n",
        "    plt.xlabel('Epoch')\n",
        "    plt.ylabel('Accuracy')\n",
        "    plt.show()\n",
        "\n",
        "# Leaky ReLU와 Sigmoid의 학습 정확도 비교 플롯\n",
        "plot_acc(train_accs_leaky_relu, train_accs_sigmoid)"
      ],
      "metadata": {
        "colab": {
          "base_uri": "https://localhost:8080/",
          "height": 472
        },
        "id": "a6GYlifSCpVQ",
        "outputId": "94616838-044d-4d6c-abec-9aeba6f028b1"
      },
      "execution_count": 21,
      "outputs": [
        {
          "output_type": "display_data",
          "data": {
            "text/plain": [
              "<Figure size 640x480 with 1 Axes>"
            ],
            "image/png": "[encoded data removed]"
          },
          "metadata": {}
        }
      ]
    },
    {
      "cell_type": "code",
      "source": [
        "#  Dropout이 적용된 LeakyReLU 모델 정의\n",
        "class DropoutLeakyReLUModel(nn.Module):\n",
        "    def __init__(self, input_dim, n_dim):\n",
        "        super().__init__()\n",
        "        self.layer1 = nn.Linear(input_dim, n_dim)\n",
        "        self.layer2 = nn.Linear(n_dim, n_dim)\n",
        "        self.layer3 = nn.Linear(n_dim, 10)\n",
        "        self.act = nn.LeakyReLU()\n",
        "        self.dropout = nn.Dropout(p=0.1)  # Dropout 확률을 0.1로 설정\n",
        "\n",
        "    def forward(self, x):\n",
        "        x = torch.flatten(x, start_dim=1)\n",
        "        x = self.dropout(self.act(self.layer1(x)))  # Dropout 적용\n",
        "        x = self.dropout(self.act(self.layer2(x)))  # Dropout 적용\n",
        "        x = self.layer3(x)\n",
        "        return x\n",
        "\n",
        "# CIFAR10 이미지를 위한 모델 입력 크기 조정 (3 * 32 * 32)\n",
        "model_dropout = DropoutLeakyReLUModel(32 * 32 * 3, 1024).to('cuda')\n"
      ],
      "metadata": {
        "id": "TlnlNjUEC7vS"
      },
      "execution_count": 22,
      "outputs": []
    },
    {
      "cell_type": "code",
      "source": [
        "\n",
        "# 손실 함수 및 Adam 옵티마이저 설정\n",
        "criterion = nn.CrossEntropyLoss()\n",
        "optimizer_dropout = Adam(model_dropout.parameters(), lr=0.001)"
      ],
      "metadata": {
        "id": "VAvPsbAWDCu7"
      },
      "execution_count": 23,
      "outputs": []
    },
    {
      "cell_type": "code",
      "source": [
        "# 학습 루프 (Dropout 모델에 대해 Adam을 사용하여 학습)\n",
        "n_epochs = 50\n",
        "train_accs_dropout = []\n",
        "test_accs_dropout = []\n",
        "\n",
        "for epoch in range(n_epochs):\n",
        "    # Dropout 모델 학습\n",
        "    model_dropout.train()  # Dropout을 활성화하여 학습 모드로 전환\n",
        "    total_loss_dropout = 0.0\n",
        "    for data in trainloader:\n",
        "        inputs, labels = data\n",
        "        inputs, labels = inputs.to('cuda'), labels.to('cuda')\n",
        "\n",
        "        optimizer_dropout.zero_grad()\n",
        "        preds = model_dropout(inputs)\n",
        "        loss = criterion(preds, labels)\n",
        "        loss.backward()\n",
        "        optimizer_dropout.step()\n",
        "        total_loss_dropout += loss.item()\n",
        "\n",
        "    # 학습 데이터 정확도 계산 (Dropout 적용)\n",
        "    with torch.no_grad():\n",
        "        model_dropout.eval()  # Dropout을 비활성화하여 평가 모드로 전환\n",
        "        train_acc_dropout = accuracy(model_dropout, trainloader)\n",
        "        test_acc_dropout = accuracy(model_dropout, testloader)\n",
        "\n",
        "    train_accs_dropout.append(train_acc_dropout)\n",
        "    test_accs_dropout.append(test_acc_dropout)\n",
        "\n",
        "    print(f\"Epoch {epoch+1}/{n_epochs}, Loss: {total_loss_dropout:.4f}, Train Acc: {train_acc_dropout:.4f}, Test Acc: {test_acc_dropout:.4f}\")"
      ],
      "metadata": {
        "colab": {
          "base_uri": "https://localhost:8080/"
        },
        "id": "Y21fkQY1DP38",
        "outputId": "1cb8e056-a4d9-4dff-bd4c-797380f448ae"
      },
      "execution_count": 24,
      "outputs": [
        {
          "output_type": "stream",
          "name": "stdout",
          "text": [
            "Epoch 1/50, Loss: 370.1768, Train Acc: 0.3400, Test Acc: 0.3395\n",
            "Epoch 2/50, Loss: 331.4614, Train Acc: 0.4316, Test Acc: 0.4293\n",
            "Epoch 3/50, Loss: 314.4338, Train Acc: 0.4479, Test Acc: 0.4419\n",
            "Epoch 4/50, Loss: 304.7208, Train Acc: 0.4657, Test Acc: 0.4537\n",
            "Epoch 5/50, Loss: 297.2483, Train Acc: 0.4652, Test Acc: 0.4522\n",
            "Epoch 6/50, Loss: 290.1085, Train Acc: 0.4860, Test Acc: 0.4700\n",
            "Epoch 7/50, Loss: 284.6672, Train Acc: 0.5056, Test Acc: 0.4849\n",
            "Epoch 8/50, Loss: 280.2677, Train Acc: 0.4979, Test Acc: 0.4755\n",
            "Epoch 9/50, Loss: 275.2131, Train Acc: 0.5315, Test Acc: 0.5007\n",
            "Epoch 10/50, Loss: 269.1860, Train Acc: 0.5257, Test Acc: 0.4911\n",
            "Epoch 11/50, Loss: 265.9162, Train Acc: 0.5363, Test Acc: 0.4986\n",
            "Epoch 12/50, Loss: 261.2102, Train Acc: 0.5457, Test Acc: 0.5099\n",
            "Epoch 13/50, Loss: 257.7832, Train Acc: 0.5576, Test Acc: 0.5139\n",
            "Epoch 14/50, Loss: 253.8831, Train Acc: 0.5665, Test Acc: 0.5190\n",
            "Epoch 15/50, Loss: 250.3286, Train Acc: 0.5806, Test Acc: 0.5254\n",
            "Epoch 16/50, Loss: 247.0557, Train Acc: 0.5536, Test Acc: 0.4964\n",
            "Epoch 17/50, Loss: 243.8548, Train Acc: 0.5284, Test Acc: 0.4644\n",
            "Epoch 18/50, Loss: 240.8560, Train Acc: 0.5901, Test Acc: 0.5231\n",
            "Epoch 19/50, Loss: 237.1443, Train Acc: 0.6137, Test Acc: 0.5309\n",
            "Epoch 20/50, Loss: 233.5450, Train Acc: 0.6115, Test Acc: 0.5254\n",
            "Epoch 21/50, Loss: 231.0101, Train Acc: 0.5973, Test Acc: 0.5164\n",
            "Epoch 22/50, Loss: 228.2456, Train Acc: 0.6137, Test Acc: 0.5250\n",
            "Epoch 23/50, Loss: 226.1700, Train Acc: 0.6394, Test Acc: 0.5356\n",
            "Epoch 24/50, Loss: 222.1589, Train Acc: 0.6341, Test Acc: 0.5241\n",
            "Epoch 25/50, Loss: 217.8397, Train Acc: 0.6444, Test Acc: 0.5308\n",
            "Epoch 26/50, Loss: 215.6171, Train Acc: 0.6535, Test Acc: 0.5353\n",
            "Epoch 27/50, Loss: 212.7788, Train Acc: 0.6566, Test Acc: 0.5346\n",
            "Epoch 28/50, Loss: 210.5411, Train Acc: 0.6445, Test Acc: 0.5233\n",
            "Epoch 29/50, Loss: 207.4149, Train Acc: 0.6850, Test Acc: 0.5488\n",
            "Epoch 30/50, Loss: 205.4289, Train Acc: 0.6756, Test Acc: 0.5438\n",
            "Epoch 31/50, Loss: 201.8695, Train Acc: 0.6761, Test Acc: 0.5347\n",
            "Epoch 32/50, Loss: 200.6812, Train Acc: 0.6882, Test Acc: 0.5426\n",
            "Epoch 33/50, Loss: 197.2923, Train Acc: 0.7070, Test Acc: 0.5520\n",
            "Epoch 34/50, Loss: 193.7110, Train Acc: 0.6918, Test Acc: 0.5383\n",
            "Epoch 35/50, Loss: 192.1831, Train Acc: 0.6961, Test Acc: 0.5292\n",
            "Epoch 36/50, Loss: 189.0217, Train Acc: 0.7064, Test Acc: 0.5430\n",
            "Epoch 37/50, Loss: 186.8657, Train Acc: 0.7220, Test Acc: 0.5421\n",
            "Epoch 38/50, Loss: 185.3190, Train Acc: 0.7293, Test Acc: 0.5492\n",
            "Epoch 39/50, Loss: 181.2031, Train Acc: 0.7269, Test Acc: 0.5445\n",
            "Epoch 40/50, Loss: 180.7255, Train Acc: 0.7191, Test Acc: 0.5351\n",
            "Epoch 41/50, Loss: 179.1528, Train Acc: 0.7431, Test Acc: 0.5439\n",
            "Epoch 42/50, Loss: 174.3695, Train Acc: 0.7526, Test Acc: 0.5390\n",
            "Epoch 43/50, Loss: 172.9062, Train Acc: 0.7574, Test Acc: 0.5409\n",
            "Epoch 44/50, Loss: 170.3981, Train Acc: 0.7371, Test Acc: 0.5369\n",
            "Epoch 45/50, Loss: 170.5136, Train Acc: 0.7639, Test Acc: 0.5457\n",
            "Epoch 46/50, Loss: 166.1850, Train Acc: 0.7454, Test Acc: 0.5317\n",
            "Epoch 47/50, Loss: 164.7333, Train Acc: 0.7709, Test Acc: 0.5467\n",
            "Epoch 48/50, Loss: 162.6425, Train Acc: 0.7734, Test Acc: 0.5440\n",
            "Epoch 49/50, Loss: 161.5980, Train Acc: 0.7695, Test Acc: 0.5478\n",
            "Epoch 50/50, Loss: 158.1968, Train Acc: 0.7712, Test Acc: 0.5326\n"
          ]
        }
      ]
    },
    {
      "cell_type": "code",
      "source": [
        "# 정확도 그래프 그리기 (Train vs Test)\n",
        "def plot_acc(train_accs_dropout, test_accs_dropout):\n",
        "    x = np.arange(len(train_accs_dropout))\n",
        "    plt.plot(x, train_accs_dropout, label='Train Accuracy')\n",
        "    plt.plot(x, test_accs_dropout, label='Test Accuracy')\n",
        "    plt.legend()\n",
        "    plt.title('Train vs Test Accuracy per Epoch (Dropout)')\n",
        "    plt.xlabel('Epoch')\n",
        "    plt.ylabel('Accuracy')\n",
        "    plt.show()\n",
        "\n",
        "# Dropout이 적용된 모델의 Train과 Test 정확도 비교 플롯\n",
        "plot_acc(train_accs_dropout, test_accs_dropout)"
      ],
      "metadata": {
        "colab": {
          "base_uri": "https://localhost:8080/",
          "height": 472
        },
        "id": "__mfihYODWLU",
        "outputId": "ee0eb860-e4da-42bd-e25f-38a285349a0d"
      },
      "execution_count": 25,
      "outputs": [
        {
          "output_type": "display_data",
          "data": {
            "text/plain": [
              "<Figure size 640x480 with 1 Axes>"
            ],
            "image/png": "[encoded data removed]"
          },
          "metadata": {}
        }
      ]
    }
  ],
  "metadata": {
    "accelerator": "GPU",
    "colab": {
      "gpuType": "T4",
      "provenance": [],
      "include_colab_link": true
    },
    "kernelspec": {
      "display_name": "Python 3",
      "name": "python3"
    },
    "language_info": {
      "name": "python"
    }
  },
  "nbformat": 4,
  "nbformat_minor": 0
}