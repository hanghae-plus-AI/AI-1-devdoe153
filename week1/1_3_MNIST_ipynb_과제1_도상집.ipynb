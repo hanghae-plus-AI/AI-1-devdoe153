{
  "cells": [
    {
      "cell_type": "markdown",
      "metadata": {
        "id": "view-in-github",
        "colab_type": "text"
      },
      "source": [
        "<a href=\"https://colab.research.google.com/github/devdoe153/llm-proj/blob/main/1_3_MNIST_ipynb_%EA%B3%BC%EC%A0%9C1_%EB%8F%84%EC%83%81%EC%A7%91.ipynb\" target=\"_parent\"><img src=\"https://colab.research.google.com/assets/colab-badge.svg\" alt=\"Open In Colab\"/></a>"
      ]
    },
    {
      "cell_type": "markdown",
      "metadata": {
        "id": "OPJenlrhihrh"
      },
      "source": [
        "# MNIST 실습\n",
        "\n",
        "이번에는 28x28 흑백 손글씨 이미지를 보고 0~9 사이의 숫자 중 어떤 숫자를 쓴 것인지 예측하는 문제를 실습합니다.\n",
        "이번 실습에서는 GPU를 활용할 것이기 때문에, 이전 챕터에서 Colab에서 GPU를 설정하는 방법을 따라해주시길 바랍니다.\n",
        "\n",
        "GPU를 설정했으면 library들을 import합니다."
      ]
    },
    {
      "cell_type": "code",
      "execution_count": null,
      "metadata": {
        "id": "6lXVfXoDtoQh"
      },
      "outputs": [],
      "source": [
        "import torch\n",
        "import torchvision\n",
        "import torchvision.transforms as transforms"
      ]
    },
    {
      "cell_type": "markdown",
      "metadata": {
        "id": "pF-1zQvmiult"
      },
      "source": [
        "다음은 dataset을 준비합니다. 손글씨 dataset은 MNIST라는 유명한 dataset이 있습니다. 이 dataset은 `torchvision`에서 제공하고 있으며, 다음과 같이 다운로드 받을 수 있습니다."
      ]
    },
    {
      "cell_type": "code",
      "execution_count": null,
      "metadata": {
        "colab": {
          "base_uri": "https://localhost:8080/"
        },
        "id": "KAYlqPaRt6ti",
        "outputId": "99d83dd3-f2b0-4707-a61e-0b95d642d3e1"
      },
      "outputs": [
        {
          "name": "stdout",
          "output_type": "stream",
          "text": [
            "Downloading http://yann.lecun.com/exdb/mnist/train-images-idx3-ubyte.gz\n",
            "Failed to download (trying next):\n",
            "HTTP Error 403: Forbidden\n",
            "\n",
            "Downloading https://ossci-datasets.s3.amazonaws.com/mnist/train-images-idx3-ubyte.gz\n",
            "Downloading https://ossci-datasets.s3.amazonaws.com/mnist/train-images-idx3-ubyte.gz to ./data/MNIST/raw/train-images-idx3-ubyte.gz\n"
          ]
        },
        {
          "name": "stderr",
          "output_type": "stream",
          "text": [
            "100%|██████████| 9912422/9912422 [00:01<00:00, 5077857.68it/s]\n"
          ]
        },
        {
          "name": "stdout",
          "output_type": "stream",
          "text": [
            "Extracting ./data/MNIST/raw/train-images-idx3-ubyte.gz to ./data/MNIST/raw\n",
            "\n",
            "Downloading http://yann.lecun.com/exdb/mnist/train-labels-idx1-ubyte.gz\n",
            "Failed to download (trying next):\n",
            "HTTP Error 403: Forbidden\n",
            "\n",
            "Downloading https://ossci-datasets.s3.amazonaws.com/mnist/train-labels-idx1-ubyte.gz\n",
            "Downloading https://ossci-datasets.s3.amazonaws.com/mnist/train-labels-idx1-ubyte.gz to ./data/MNIST/raw/train-labels-idx1-ubyte.gz\n"
          ]
        },
        {
          "name": "stderr",
          "output_type": "stream",
          "text": [
            "100%|██████████| 28881/28881 [00:00<00:00, 57738.21it/s]\n"
          ]
        },
        {
          "name": "stdout",
          "output_type": "stream",
          "text": [
            "Extracting ./data/MNIST/raw/train-labels-idx1-ubyte.gz to ./data/MNIST/raw\n",
            "\n",
            "Downloading http://yann.lecun.com/exdb/mnist/t10k-images-idx3-ubyte.gz\n",
            "Failed to download (trying next):\n",
            "HTTP Error 403: Forbidden\n",
            "\n",
            "Downloading https://ossci-datasets.s3.amazonaws.com/mnist/t10k-images-idx3-ubyte.gz\n",
            "Downloading https://ossci-datasets.s3.amazonaws.com/mnist/t10k-images-idx3-ubyte.gz to ./data/MNIST/raw/t10k-images-idx3-ubyte.gz\n"
          ]
        },
        {
          "name": "stderr",
          "output_type": "stream",
          "text": [
            "100%|██████████| 1648877/1648877 [00:01<00:00, 1275378.21it/s]\n"
          ]
        },
        {
          "name": "stdout",
          "output_type": "stream",
          "text": [
            "Extracting ./data/MNIST/raw/t10k-images-idx3-ubyte.gz to ./data/MNIST/raw\n",
            "\n",
            "Downloading http://yann.lecun.com/exdb/mnist/t10k-labels-idx1-ubyte.gz\n",
            "Failed to download (trying next):\n",
            "HTTP Error 403: Forbidden\n",
            "\n",
            "Downloading https://ossci-datasets.s3.amazonaws.com/mnist/t10k-labels-idx1-ubyte.gz\n",
            "Downloading https://ossci-datasets.s3.amazonaws.com/mnist/t10k-labels-idx1-ubyte.gz to ./data/MNIST/raw/t10k-labels-idx1-ubyte.gz\n"
          ]
        },
        {
          "name": "stderr",
          "output_type": "stream",
          "text": [
            "100%|██████████| 4542/4542 [00:00<00:00, 6462187.51it/s]"
          ]
        },
        {
          "name": "stdout",
          "output_type": "stream",
          "text": [
            "Extracting ./data/MNIST/raw/t10k-labels-idx1-ubyte.gz to ./data/MNIST/raw\n",
            "\n"
          ]
        },
        {
          "name": "stderr",
          "output_type": "stream",
          "text": [
            "\n"
          ]
        }
      ],
      "source": [
        "transform = transforms.ToTensor()\n",
        "\n",
        "trainset = torchvision.datasets.MNIST(\n",
        "    root='./data',\n",
        "    train=True,\n",
        "    download=True,\n",
        "    transform=transform\n",
        ")\n",
        "\n",
        "testset = torchvision.datasets.MNIST(\n",
        "    root='./data',\n",
        "    train=False,\n",
        "    download=True,\n",
        "    transform=transform\n",
        ")\n"
      ]
    },
    {
      "cell_type": "markdown",
      "metadata": {
        "id": "p-GqH7_ZjVMs"
      },
      "source": [
        "MNIST는 손글씨 사진과 어떤 숫자를 의미하는지에 대한 label의 pair들로 구성되어있습니다.\n",
        "이 때, 우리는 PyTorch model을 사용할 것이기 때문에 손글씨 사진들을 모두 tensor로 변환해야합니다.\n",
        "이러한 부가적인 변환들은 `torchvision.transforms`에서 제공하고 있으며, `torchvision.datasets.MNIST`에서 `transform` 인자로 받을 수 있습니다.\n",
        "우리는 단순히 사진을 tensor로 바꾸고 싶기 때문에 `transforms.ToTensor()` transformation을 넘겨줍니다.\n",
        "\n",
        "다음은 전체 data의 개수와 첫 번째 data를 출력한 결과입니다."
      ]
    },
    {
      "cell_type": "code",
      "execution_count": null,
      "metadata": {
        "colab": {
          "base_uri": "https://localhost:8080/",
          "height": 484
        },
        "id": "Zsp3sHmojyhT",
        "outputId": "433086b3-78a1-40b3-bf38-647c03a2c9ec"
      },
      "outputs": [
        {
          "name": "stdout",
          "output_type": "stream",
          "text": [
            "60000\n",
            "torch.Size([1, 28, 28]) 5\n"
          ]
        },
        {
          "data": {
            "text/plain": [
              "<matplotlib.image.AxesImage at 0x7bb160341330>"
            ]
          },
          "execution_count": 11,
          "metadata": {},
          "output_type": "execute_result"
        },
        {
          "data": {
            "image/png": "[encoded data removed]",
            "text/plain": [
              "<Figure size 640x480 with 1 Axes>"
            ]
          },
          "metadata": {},
          "output_type": "display_data"
        }
      ],
      "source": [
        "from matplotlib import pyplot as plt\n",
        "\n",
        "\n",
        "print(len(trainset))\n",
        "print(trainset[0][0].shape, trainset[0][1])\n",
        "plt.imshow(trainset[0][0][0], cmap='gray')"
      ]
    },
    {
      "cell_type": "markdown",
      "metadata": {
        "id": "udm8wDBsi301"
      },
      "source": [
        "첫 번째 출력결과를 통해 우리는 6만장의 손글씨 data가 있는 것을 알 수 있습니다.\n",
        "그리고 두 번째 출력결과를 통해 첫 번째 data의 shape은 (1, 28, 28)이고 5라는 숫자를 쓴 사진이라는 것을 알 수 있습니다.\n",
        "마지막으로 `plt.imshow`를 통해 visualize 했을 때 5라는 숫자가 나오는 것을 알 수 있습니다.\n",
        "\n",
        "다음은 SGD를 위해 dataset을 여러 개의 batch로 나누는 과정을 PyTorch로 구현한 모습입니다."
      ]
    },
    {
      "cell_type": "code",
      "execution_count": null,
      "metadata": {
        "id": "UxKu3kA2i5WH"
      },
      "outputs": [],
      "source": [
        "batch_size = 256\n",
        "\n",
        "trainloader = torch.utils.data.DataLoader(\n",
        "    trainset,\n",
        "    batch_size=batch_size,\n",
        "    shuffle=True\n",
        ")\n",
        "\n",
        "testloader = torch.utils.data.DataLoader(\n",
        "    testset,\n",
        "    batch_size=batch_size,\n",
        "    shuffle=False\n",
        ")"
      ]
    },
    {
      "cell_type": "markdown",
      "metadata": {
        "id": "z4Qyrm4WlzWt"
      },
      "source": [
        "PyTorch에서는 `DataLoader`가 dataset을 인자로 받아 batch로 나눠줍니다.\n",
        "부가적으로 `batch_size`라는 인자를 통해 batch size를 받고 있으며, `shuffle`이라는 인자를 통해 data들을 섞을지 결정해줍니다.\n",
        "우리는 SGD가 완전 랜덤으로 batch를 구성해야 잘 동작하는 것을 알고 있기 때문에 `shuffle`에 `True`를 넘겨주고 있습니다.\n",
        "\n",
        "다음은 첫 번째 batch를 출력한 모습입니다."
      ]
    },
    {
      "cell_type": "code",
      "execution_count": null,
      "metadata": {
        "colab": {
          "base_uri": "https://localhost:8080/"
        },
        "id": "_Hd7XxyAvVNz",
        "outputId": "417008c3-c370-414d-f4f2-5b63a917d618"
      },
      "outputs": [
        {
          "name": "stdout",
          "output_type": "stream",
          "text": [
            "torch.Size([256, 1, 28, 28]) torch.Size([256])\n"
          ]
        }
      ],
      "source": [
        "dataiter = iter(trainloader)\n",
        "images, labels = next(dataiter)\n",
        "print(images.shape, labels.shape)"
      ]
    },
    {
      "cell_type": "markdown",
      "metadata": {
        "id": "h0ZY5mDimRUK"
      },
      "source": [
        "`images`는 첫 번째 batch의 image들이고 `labels`는 첫 번째 batch의 label들입니다.\n",
        "위에서 batch size를 64로 설정했기 때문에 총 64개의 image와 label들이 있어야 합니다.\n",
        "실제 shape 출력 결과를 보면 그렇다는 것을 알 수 있습니다.\n",
        "\n",
        "다음은 (n, 1, 28, 28) shape의 image를 입력받아 0~9 사이의 정수 하나를 출력하는 3-layer MLP를 구현합니다."
      ]
    },
    {
      "cell_type": "code",
      "execution_count": null,
      "metadata": {
        "id": "OLOA-ZGTuVVG"
      },
      "outputs": [],
      "source": [
        "from torch import nn\n",
        "\n",
        "\n",
        "\n",
        "\n",
        "class Model(nn.Module):\n",
        "  def __init__(self, input_dim, n_dim):\n",
        "    super().__init__()\n",
        "\n",
        "    self.layer1 = nn.Linear(input_dim, n_dim)\n",
        "    self.layer2 = nn.Linear(n_dim, n_dim)\n",
        "    self.layer3 = nn.Linear(n_dim, 10)\n",
        "\n",
        "    self.act = nn.ReLU()\n",
        "\n",
        "  def forward(self, x):\n",
        "    x = torch.flatten(x, start_dim=1)\n",
        "    x = self.act(self.layer1(x))\n",
        "    x = self.act(self.layer2(x))\n",
        "    x = self.layer3(x)\n",
        "\n",
        "    return x\n",
        "\n",
        "model = Model(28 * 28 * 1, 1024)\n",
        "model = model.to('cuda')"
      ]
    },
    {
      "cell_type": "markdown",
      "metadata": {
        "id": "tag1rNcwmnAr"
      },
      "source": [
        "이전의 2-layer MLP와 유사한 형태임을 알 수 있습니다.\n",
        "여기서 특이사항은 `forward`의 첫 번째 줄에 `torch.flatten`을 사용한다는 것입니다.\n",
        "`Linear`는 이전에도 봤다시피 (n, d) 형태의 shape을 입력받습니다.\n",
        "이미지는 (n, 1, 28, 28)이기 때문에 (n, 1 * 28 * 28)로 shape을 변환해야 선형 함수에 입력으로 주어줄 수 있게 됩니다.\n",
        "이 역할을 수행하는 것이 바로 `torch.flatten`입니다.\n",
        "우리는 첫 번째 shape인 n을 보존할 것이기 때문에 flatten할 차원은 `start_dim=1`로 넘겨주게 됩니다.\n",
        "\n",
        "다음은 gradient descent를 수행해줄 optimizer를 구현하는 모습입니다."
      ]
    },
    {
      "cell_type": "code",
      "execution_count": null,
      "metadata": {
        "id": "4uTZlGlRm859"
      },
      "outputs": [],
      "source": [
        "!CUDA_LAUNCH_BLOCKING=1"
      ]
    },
    {
      "cell_type": "code",
      "execution_count": null,
      "metadata": {
        "id": "ypS0TcOlvBhZ"
      },
      "outputs": [],
      "source": [
        "from torch.optim import SGD\n",
        "\n",
        "lr = 0.001\n",
        "\n",
        "criterion = nn.CrossEntropyLoss()\n",
        "optimizer = SGD(model.parameters(), lr=lr)"
      ]
    },
    {
      "cell_type": "markdown",
      "metadata": {
        "id": "5PooeOKMnRfZ"
      },
      "source": [
        "이전 코드와 거의 똑같습니다. 다른 점은 `model.to('cuda')` 코드를 통해 우리가 구현한 model을 GPU로 옮긴 것입니다.\n",
        "MNIST 부터는 모델과 data가 커지면서 훨씬 많은 행렬 연산이 이루어지기 때문에 GPU를 활용하는 것이 빠릅니다.\n",
        "\n",
        "다음은 model을 MNIST에 학습하는 코드입니다."
      ]
    },
    {
      "cell_type": "code",
      "execution_count": null,
      "metadata": {
        "id": "c6o-r50uhTDw"
      },
      "outputs": [],
      "source": [
        "def accuracy(model, dataloader):\n",
        "  cnt = 0\n",
        "  acc = 0\n",
        "\n",
        "  for data in dataloader:\n",
        "    inputs, labels = data\n",
        "    inputs, labels = inputs.to('cuda'), labels.to('cuda')\n",
        "\n",
        "    preds = model(inputs)\n",
        "    preds = torch.argmax(preds, dim=-1)\n",
        "\n",
        "    cnt += labels.shape[0]\n",
        "    acc += (labels == preds).sum().item()\n",
        "\n",
        "  return acc / cnt"
      ]
    },
    {
      "cell_type": "code",
      "execution_count": null,
      "metadata": {
        "colab": {
          "background_save": true,
          "base_uri": "https://localhost:8080/"
        },
        "id": "7qJECyO2op4A",
        "outputId": "73b4bf97-5867-4a42-9feb-c1680bae231f"
      },
      "outputs": [
        {
          "name": "stdout",
          "output_type": "stream",
          "text": [
            "Epoch 1/100, Loss: 538.6741, Train Acc: 0.2404, Test Acc: 0.2412\n",
            "Epoch 2/100, Loss: 534.8003, Train Acc: 0.4017, Test Acc: 0.4055\n",
            "Epoch 3/100, Loss: 530.7963, Train Acc: 0.5127, Test Acc: 0.5254\n",
            "Epoch 4/100, Loss: 526.5397, Train Acc: 0.5788, Test Acc: 0.5928\n",
            "Epoch 5/100, Loss: 521.9015, Train Acc: 0.6249, Test Acc: 0.6399\n",
            "Epoch 6/100, Loss: 516.7490, Train Acc: 0.6540, Test Acc: 0.6681\n",
            "Epoch 7/100, Loss: 510.9123, Train Acc: 0.6741, Test Acc: 0.6867\n",
            "Epoch 8/100, Loss: 504.2937, Train Acc: 0.6867, Test Acc: 0.6987\n",
            "Epoch 9/100, Loss: 496.7011, Train Acc: 0.6980, Test Acc: 0.7098\n",
            "Epoch 10/100, Loss: 487.9232, Train Acc: 0.7062, Test Acc: 0.7180\n",
            "Epoch 11/100, Loss: 477.8778, Train Acc: 0.7147, Test Acc: 0.7261\n",
            "Epoch 12/100, Loss: 466.3451, Train Acc: 0.7215, Test Acc: 0.7308\n",
            "Epoch 13/100, Loss: 453.2147, Train Acc: 0.7289, Test Acc: 0.7379\n",
            "Epoch 14/100, Loss: 438.3422, Train Acc: 0.7338, Test Acc: 0.7421\n",
            "Epoch 15/100, Loss: 421.8304, Train Acc: 0.7383, Test Acc: 0.7467\n",
            "Epoch 16/100, Loss: 403.7961, Train Acc: 0.7423, Test Acc: 0.7511\n",
            "Epoch 17/100, Loss: 384.5250, Train Acc: 0.7455, Test Acc: 0.7542\n",
            "Epoch 18/100, Loss: 364.5321, Train Acc: 0.7508, Test Acc: 0.7587\n",
            "Epoch 19/100, Loss: 344.1977, Train Acc: 0.7567, Test Acc: 0.7650\n",
            "Epoch 20/100, Loss: 324.2559, Train Acc: 0.7646, Test Acc: 0.7734\n",
            "Epoch 21/100, Loss: 304.9858, Train Acc: 0.7730, Test Acc: 0.7824\n",
            "Epoch 22/100, Loss: 286.9596, Train Acc: 0.7805, Test Acc: 0.7903\n",
            "Epoch 23/100, Loss: 270.3430, Train Acc: 0.7876, Test Acc: 0.7972\n",
            "Epoch 24/100, Loss: 255.1307, Train Acc: 0.7936, Test Acc: 0.8042\n",
            "Epoch 25/100, Loss: 241.5813, Train Acc: 0.7998, Test Acc: 0.8105\n",
            "Epoch 26/100, Loss: 229.2736, Train Acc: 0.8058, Test Acc: 0.8137\n",
            "Epoch 27/100, Loss: 218.3055, Train Acc: 0.8105, Test Acc: 0.8161\n",
            "Epoch 28/100, Loss: 208.5231, Train Acc: 0.8144, Test Acc: 0.8195\n",
            "Epoch 29/100, Loss: 199.7863, Train Acc: 0.8185, Test Acc: 0.8219\n",
            "Epoch 30/100, Loss: 191.8358, Train Acc: 0.8222, Test Acc: 0.8249\n",
            "Epoch 31/100, Loss: 184.7367, Train Acc: 0.8247, Test Acc: 0.8286\n",
            "Epoch 32/100, Loss: 178.1958, Train Acc: 0.8279, Test Acc: 0.8323\n",
            "Epoch 33/100, Loss: 172.3801, Train Acc: 0.8314, Test Acc: 0.8369\n",
            "Epoch 34/100, Loss: 167.0379, Train Acc: 0.8339, Test Acc: 0.8395\n",
            "Epoch 35/100, Loss: 162.1886, Train Acc: 0.8369, Test Acc: 0.8419\n",
            "Epoch 36/100, Loss: 157.6680, Train Acc: 0.8393, Test Acc: 0.8445\n",
            "Epoch 37/100, Loss: 153.5814, Train Acc: 0.8422, Test Acc: 0.8474\n",
            "Epoch 38/100, Loss: 149.7630, Train Acc: 0.8443, Test Acc: 0.8495\n",
            "Epoch 39/100, Loss: 146.2782, Train Acc: 0.8468, Test Acc: 0.8519\n",
            "Epoch 40/100, Loss: 143.0434, Train Acc: 0.8491, Test Acc: 0.8545\n",
            "Epoch 41/100, Loss: 139.9996, Train Acc: 0.8512, Test Acc: 0.8568\n",
            "Epoch 42/100, Loss: 137.1282, Train Acc: 0.8533, Test Acc: 0.8584\n",
            "Epoch 43/100, Loss: 134.5654, Train Acc: 0.8548, Test Acc: 0.8601\n",
            "Epoch 44/100, Loss: 131.9192, Train Acc: 0.8573, Test Acc: 0.8623\n",
            "Epoch 45/100, Loss: 129.6501, Train Acc: 0.8594, Test Acc: 0.8642\n",
            "Epoch 46/100, Loss: 127.3550, Train Acc: 0.8608, Test Acc: 0.8650\n",
            "Epoch 47/100, Loss: 125.3851, Train Acc: 0.8627, Test Acc: 0.8669\n",
            "Epoch 48/100, Loss: 123.3586, Train Acc: 0.8651, Test Acc: 0.8692\n",
            "Epoch 49/100, Loss: 121.5212, Train Acc: 0.8668, Test Acc: 0.8704\n",
            "Epoch 50/100, Loss: 119.7834, Train Acc: 0.8681, Test Acc: 0.8720\n",
            "Epoch 51/100, Loss: 118.1718, Train Acc: 0.8691, Test Acc: 0.8745\n",
            "Epoch 52/100, Loss: 116.6928, Train Acc: 0.8711, Test Acc: 0.8752\n",
            "Epoch 53/100, Loss: 115.0466, Train Acc: 0.8720, Test Acc: 0.8771\n",
            "Epoch 54/100, Loss: 113.5989, Train Acc: 0.8731, Test Acc: 0.8777\n",
            "Epoch 55/100, Loss: 112.3068, Train Acc: 0.8745, Test Acc: 0.8796\n",
            "Epoch 56/100, Loss: 110.8621, Train Acc: 0.8753, Test Acc: 0.8807\n",
            "Epoch 57/100, Loss: 109.6781, Train Acc: 0.8763, Test Acc: 0.8822\n",
            "Epoch 58/100, Loss: 108.4709, Train Acc: 0.8776, Test Acc: 0.8834\n",
            "Epoch 59/100, Loss: 107.3293, Train Acc: 0.8786, Test Acc: 0.8842\n",
            "Epoch 60/100, Loss: 106.2701, Train Acc: 0.8795, Test Acc: 0.8851\n",
            "Epoch 61/100, Loss: 105.2179, Train Acc: 0.8806, Test Acc: 0.8863\n",
            "Epoch 62/100, Loss: 104.2389, Train Acc: 0.8814, Test Acc: 0.8875\n",
            "Epoch 63/100, Loss: 103.2204, Train Acc: 0.8822, Test Acc: 0.8885\n",
            "Epoch 64/100, Loss: 102.3310, Train Acc: 0.8831, Test Acc: 0.8893\n",
            "Epoch 65/100, Loss: 101.4607, Train Acc: 0.8841, Test Acc: 0.8894\n",
            "Epoch 66/100, Loss: 100.5959, Train Acc: 0.8849, Test Acc: 0.8905\n",
            "Epoch 67/100, Loss: 99.7863, Train Acc: 0.8857, Test Acc: 0.8917\n",
            "Epoch 68/100, Loss: 98.9136, Train Acc: 0.8864, Test Acc: 0.8915\n",
            "Epoch 69/100, Loss: 98.1579, Train Acc: 0.8870, Test Acc: 0.8919\n",
            "Epoch 70/100, Loss: 97.4105, Train Acc: 0.8876, Test Acc: 0.8927\n",
            "Epoch 71/100, Loss: 96.7436, Train Acc: 0.8882, Test Acc: 0.8931\n",
            "Epoch 72/100, Loss: 95.9971, Train Acc: 0.8888, Test Acc: 0.8940\n",
            "Epoch 73/100, Loss: 95.3062, Train Acc: 0.8893, Test Acc: 0.8940\n",
            "Epoch 74/100, Loss: 94.6927, Train Acc: 0.8900, Test Acc: 0.8946\n",
            "Epoch 75/100, Loss: 94.1725, Train Acc: 0.8903, Test Acc: 0.8951\n",
            "Epoch 76/100, Loss: 93.3530, Train Acc: 0.8909, Test Acc: 0.8956\n",
            "Epoch 77/100, Loss: 92.8117, Train Acc: 0.8916, Test Acc: 0.8962\n",
            "Epoch 78/100, Loss: 92.2484, Train Acc: 0.8920, Test Acc: 0.8965\n",
            "Epoch 79/100, Loss: 91.7617, Train Acc: 0.8923, Test Acc: 0.8977\n",
            "Epoch 80/100, Loss: 91.3188, Train Acc: 0.8930, Test Acc: 0.8979\n",
            "Epoch 81/100, Loss: 90.6509, Train Acc: 0.8937, Test Acc: 0.8976\n",
            "Epoch 82/100, Loss: 90.1362, Train Acc: 0.8943, Test Acc: 0.8976\n",
            "Epoch 83/100, Loss: 89.6626, Train Acc: 0.8944, Test Acc: 0.8983\n",
            "Epoch 84/100, Loss: 89.1711, Train Acc: 0.8945, Test Acc: 0.8989\n",
            "Epoch 85/100, Loss: 88.7235, Train Acc: 0.8951, Test Acc: 0.8997\n",
            "Epoch 86/100, Loss: 88.2594, Train Acc: 0.8959, Test Acc: 0.9000\n",
            "Epoch 87/100, Loss: 87.9096, Train Acc: 0.8962, Test Acc: 0.9001\n",
            "Epoch 88/100, Loss: 87.4096, Train Acc: 0.8967, Test Acc: 0.9010\n",
            "Epoch 89/100, Loss: 86.9082, Train Acc: 0.8970, Test Acc: 0.9010\n",
            "Epoch 90/100, Loss: 86.5273, Train Acc: 0.8975, Test Acc: 0.9014\n",
            "Epoch 91/100, Loss: 86.1779, Train Acc: 0.8977, Test Acc: 0.9018\n",
            "Epoch 92/100, Loss: 85.7321, Train Acc: 0.8982, Test Acc: 0.9023\n",
            "Epoch 93/100, Loss: 85.4016, Train Acc: 0.8988, Test Acc: 0.9029\n",
            "Epoch 94/100, Loss: 85.0242, Train Acc: 0.8992, Test Acc: 0.9030\n",
            "Epoch 95/100, Loss: 84.6354, Train Acc: 0.8992, Test Acc: 0.9033\n",
            "Epoch 96/100, Loss: 84.3420, Train Acc: 0.8998, Test Acc: 0.9035\n",
            "Epoch 97/100, Loss: 84.0459, Train Acc: 0.9001, Test Acc: 0.9041\n",
            "Epoch 98/100, Loss: 83.5532, Train Acc: 0.9004, Test Acc: 0.9043\n",
            "Epoch 99/100, Loss: 83.2316, Train Acc: 0.9009, Test Acc: 0.9041\n",
            "Epoch 100/100, Loss: 82.9225, Train Acc: 0.9007, Test Acc: 0.9044\n"
          ]
        }
      ],
      "source": [
        "n_epochs = 100\n",
        "train_accs = []\n",
        "test_accs = []\n",
        "\n",
        "for epoch in range(n_epochs):\n",
        "  model.train()\n",
        "  total_loss = 0.\n",
        "  for data in trainloader:\n",
        "    model.zero_grad()\n",
        "    inputs, labels = data\n",
        "\n",
        "    # Move inputs and labels to the same device as the model\n",
        "    inputs = inputs.to(next(model.parameters()).device) # Move inputs to the device\n",
        "    labels = labels.to(next(model.parameters()).device) # Move labels to the device\n",
        "\n",
        "    optimizer.zero_grad()\n",
        "    preds = model(inputs)\n",
        "    #loss = (preds[:, 0] - labels).pow(2).mean()\n",
        "    loss = criterion(preds, labels)\n",
        "    loss.backward()\n",
        "    optimizer.step()\n",
        "\n",
        "    total_loss += loss.item()\n",
        "\n",
        "  # Epoch 끝날 때마다 정확도 측정\n",
        "  train_acc = accuracy(model, trainloader)\n",
        "  test_acc = accuracy(model, testloader)\n",
        "  train_accs.append(train_acc)\n",
        "  test_accs.append(test_acc)\n",
        "\n",
        "  print(f\"Epoch {epoch+1}/{n_epochs}, Loss: {total_loss:.4f}, Train Acc: {train_acc:.4f}, Test Acc: {test_acc:.4f}\")"
      ]
    },
    {
      "cell_type": "markdown",
      "metadata": {
        "id": "YRDcptrqniX7"
      },
      "source": [
        "출력 결과를 보면 잘 수렴하는 것을 볼 수 있습니다.\n",
        "이전 구현과 다른 점은 다음 두 가지입니다.\n",
        "- `for data in trainloader`를 통해 batch들을 iterate하면서 model을 학습합니다.\n",
        "- `inputs, labels = inputs.to('cuda'), labels.to('cuda')`를 통해 model의 입력으로 들어가는 tensor들을 GPU로 보냅니다.\n",
        "\n",
        "마지막으로 첫 번째 data에 대한 예측 결과를 살펴봅시다."
      ]
    },
    {
      "cell_type": "code",
      "execution_count": 20,
      "metadata": {
        "colab": {
          "base_uri": "https://localhost:8080/"
        },
        "id": "Zct0ssSKwjt1",
        "outputId": "3840cc8f-3d38-4600-f318-1b1f9729085c"
      },
      "outputs": [
        {
          "output_type": "stream",
          "name": "stdout",
          "text": [
            "tensor([[ 1.9510, -3.7652,  0.2830,  4.8341, -6.1396,  4.5477, -2.5309,  0.4744,\n",
            "          1.1974, -0.4388]], device='cuda:0', grad_fn=<AddmmBackward0>)\n",
            "5\n"
          ]
        }
      ],
      "source": [
        "idx = 0\n",
        "\n",
        "x = trainset[idx][0][None]  # (1, 1, 28, 28)\n",
        "x = x.to('cuda')\n",
        "\n",
        "print(model(x))\n",
        "print(trainset[idx][1])"
      ]
    },
    {
      "cell_type": "markdown",
      "metadata": {
        "id": "qzgSOrMsoZ2z"
      },
      "source": [
        "여기서 idx를 조정하여 다른 data에 대한 출력 결과도 볼 수 있습니다.\n",
        "예측 결과를 보시면 아직 성능이 그렇게 좋지 않은 것을 알 수 있습니다."
      ]
    },
    {
      "cell_type": "code",
      "execution_count": 21,
      "metadata": {
        "id": "d6M4SpWQoML9",
        "colab": {
          "base_uri": "https://localhost:8080/",
          "height": 430
        },
        "outputId": "93b3bf7a-c674-4901-d876-941fb243c814"
      },
      "outputs": [
        {
          "output_type": "display_data",
          "data": {
            "text/plain": [
              "<Figure size 640x480 with 1 Axes>"
            ],
            "image/png": "[encoded data removed]"
          },
          "metadata": {}
        }
      ],
      "source": [
        "# 정확도 시각화\n",
        "import numpy as np\n",
        "import matplotlib.pyplot as plt\n",
        "\n",
        "def plot_acc(train_accs, test_accs, label1='train', label2='test'):\n",
        "    x = np.arange(len(train_accs))\n",
        "    plt.plot(x, train_accs, label=label1)\n",
        "    plt.plot(x, test_accs, label=label2)\n",
        "    plt.legend()\n",
        "    plt.show()\n",
        "\n",
        "# Plot the accuracy\n",
        "plot_acc(train_accs, test_accs)"
      ]
    }
  ],
  "metadata": {
    "accelerator": "GPU",
    "colab": {
      "gpuType": "L4",
      "machine_shape": "hm",
      "provenance": [],
      "include_colab_link": true
    },
    "kernelspec": {
      "display_name": "Python 3",
      "name": "python3"
    },
    "language_info": {
      "name": "python"
    }
  },
  "nbformat": 4,
  "nbformat_minor": 0
}